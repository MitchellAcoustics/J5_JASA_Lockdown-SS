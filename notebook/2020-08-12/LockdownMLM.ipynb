{
 "metadata": {
  "language_info": {
   "codemirror_mode": {
    "name": "ipython",
    "version": 3
   },
   "file_extension": ".py",
   "mimetype": "text/x-python",
   "name": "python",
   "nbconvert_exporter": "python",
   "pygments_lexer": "ipython3",
   "version": "3.7.5-final"
  },
  "orig_nbformat": 2,
  "kernelspec": {
   "name": "python37564bitacousticanalysis2condaee88f4ddae804d0ebcf6e303757655c0",
   "display_name": "Python 3.7.5 64-bit ('AcousticAnalysis_2': conda)"
  }
 },
 "nbformat": 4,
 "nbformat_minor": 2,
 "cells": [
  {
   "cell_type": "markdown",
   "metadata": {},
   "source": [
    "# London Lockdown Multilevel Model\n",
    "\n",
    "## Load Data"
   ]
  },
  {
   "cell_type": "code",
   "execution_count": 47,
   "metadata": {},
   "outputs": [
    {
     "output_type": "execute_result",
     "data": {
      "text/plain": "   Unnamed: 0 GroupID    SessionID  LocationID  record_id recording  \\\n0           0   CT101  CamdenTown1  CamdenTown      525.0   11-42_1   \n1           1   CT101  CamdenTown1  CamdenTown      526.0   11-42_1   \n2           2   CT101  CamdenTown1  CamdenTown      561.0   11-42_1   \n3           3   CT102  CamdenTown1  CamdenTown      560.0   11-50_2   \n4           4   CT103  CamdenTown1  CamdenTown      527.0   11-52_3   \n\n         start_time          end_time   latitude  longitude  ...  Peak_2500  \\\n0  2019-05-02 11:40  2019-05-02 11:43  51.539124  -0.142624  ...      61.87   \n1  2019-05-02 11:41  2019-05-02 11:44  51.539124  -0.142624  ...      61.87   \n2  2019-05-02 11:40  2019-05-02 11:43        NaN        NaN  ...      61.87   \n3  2019-05-02 11:50  2019-05-02 11:53        NaN        NaN  ...      66.16   \n4  2019-05-02 11:49  2019-05-02 11:54  51.539124  -0.142624  ...      62.84   \n\n   Peak_3150  Peak_4000  Peak_5000  Peak_6300  Peak_8000  Peak_10000  \\\n0      61.63      58.22      56.82      57.17      53.24       57.93   \n1      61.63      58.22      56.82      57.17      53.24       57.93   \n2      61.63      58.22      56.82      57.17      53.24       57.93   \n3      65.49      63.22      58.21      57.16      59.01       55.79   \n4      56.87      63.46      57.45      49.32      48.77       60.07   \n\n   Peak_12500  Peak_16000  Peak_20000  \n0       60.33       57.48       48.83  \n1       60.33       57.48       48.83  \n2       60.33       57.48       48.83  \n3       53.71       50.08       43.81  \n4       47.32       45.77       42.35  \n\n[5 rows x 221 columns]",
      "text/html": "<div>\n<style scoped>\n    .dataframe tbody tr th:only-of-type {\n        vertical-align: middle;\n    }\n\n    .dataframe tbody tr th {\n        vertical-align: top;\n    }\n\n    .dataframe thead th {\n        text-align: right;\n    }\n</style>\n<table border=\"1\" class=\"dataframe\">\n  <thead>\n    <tr style=\"text-align: right;\">\n      <th></th>\n      <th>Unnamed: 0</th>\n      <th>GroupID</th>\n      <th>SessionID</th>\n      <th>LocationID</th>\n      <th>record_id</th>\n      <th>recording</th>\n      <th>start_time</th>\n      <th>end_time</th>\n      <th>latitude</th>\n      <th>longitude</th>\n      <th>...</th>\n      <th>Peak_2500</th>\n      <th>Peak_3150</th>\n      <th>Peak_4000</th>\n      <th>Peak_5000</th>\n      <th>Peak_6300</th>\n      <th>Peak_8000</th>\n      <th>Peak_10000</th>\n      <th>Peak_12500</th>\n      <th>Peak_16000</th>\n      <th>Peak_20000</th>\n    </tr>\n  </thead>\n  <tbody>\n    <tr>\n      <th>0</th>\n      <td>0</td>\n      <td>CT101</td>\n      <td>CamdenTown1</td>\n      <td>CamdenTown</td>\n      <td>525.0</td>\n      <td>11-42_1</td>\n      <td>2019-05-02 11:40</td>\n      <td>2019-05-02 11:43</td>\n      <td>51.539124</td>\n      <td>-0.142624</td>\n      <td>...</td>\n      <td>61.87</td>\n      <td>61.63</td>\n      <td>58.22</td>\n      <td>56.82</td>\n      <td>57.17</td>\n      <td>53.24</td>\n      <td>57.93</td>\n      <td>60.33</td>\n      <td>57.48</td>\n      <td>48.83</td>\n    </tr>\n    <tr>\n      <th>1</th>\n      <td>1</td>\n      <td>CT101</td>\n      <td>CamdenTown1</td>\n      <td>CamdenTown</td>\n      <td>526.0</td>\n      <td>11-42_1</td>\n      <td>2019-05-02 11:41</td>\n      <td>2019-05-02 11:44</td>\n      <td>51.539124</td>\n      <td>-0.142624</td>\n      <td>...</td>\n      <td>61.87</td>\n      <td>61.63</td>\n      <td>58.22</td>\n      <td>56.82</td>\n      <td>57.17</td>\n      <td>53.24</td>\n      <td>57.93</td>\n      <td>60.33</td>\n      <td>57.48</td>\n      <td>48.83</td>\n    </tr>\n    <tr>\n      <th>2</th>\n      <td>2</td>\n      <td>CT101</td>\n      <td>CamdenTown1</td>\n      <td>CamdenTown</td>\n      <td>561.0</td>\n      <td>11-42_1</td>\n      <td>2019-05-02 11:40</td>\n      <td>2019-05-02 11:43</td>\n      <td>NaN</td>\n      <td>NaN</td>\n      <td>...</td>\n      <td>61.87</td>\n      <td>61.63</td>\n      <td>58.22</td>\n      <td>56.82</td>\n      <td>57.17</td>\n      <td>53.24</td>\n      <td>57.93</td>\n      <td>60.33</td>\n      <td>57.48</td>\n      <td>48.83</td>\n    </tr>\n    <tr>\n      <th>3</th>\n      <td>3</td>\n      <td>CT102</td>\n      <td>CamdenTown1</td>\n      <td>CamdenTown</td>\n      <td>560.0</td>\n      <td>11-50_2</td>\n      <td>2019-05-02 11:50</td>\n      <td>2019-05-02 11:53</td>\n      <td>NaN</td>\n      <td>NaN</td>\n      <td>...</td>\n      <td>66.16</td>\n      <td>65.49</td>\n      <td>63.22</td>\n      <td>58.21</td>\n      <td>57.16</td>\n      <td>59.01</td>\n      <td>55.79</td>\n      <td>53.71</td>\n      <td>50.08</td>\n      <td>43.81</td>\n    </tr>\n    <tr>\n      <th>4</th>\n      <td>4</td>\n      <td>CT103</td>\n      <td>CamdenTown1</td>\n      <td>CamdenTown</td>\n      <td>527.0</td>\n      <td>11-52_3</td>\n      <td>2019-05-02 11:49</td>\n      <td>2019-05-02 11:54</td>\n      <td>51.539124</td>\n      <td>-0.142624</td>\n      <td>...</td>\n      <td>62.84</td>\n      <td>56.87</td>\n      <td>63.46</td>\n      <td>57.45</td>\n      <td>49.32</td>\n      <td>48.77</td>\n      <td>60.07</td>\n      <td>47.32</td>\n      <td>45.77</td>\n      <td>42.35</td>\n    </tr>\n  </tbody>\n</table>\n<p>5 rows × 221 columns</p>\n</div>"
     },
     "metadata": {},
     "execution_count": 47
    }
   ],
   "source": [
    "import pandas as pd\n",
    "import statsmodels.api as sm\n",
    "from pathlib import Path\n",
    "import itertools\n",
    "\n",
    "DATA_DIR = Path(\"C:\\\\Users\\\\Andrew\\\\OneDrive - University College London\\\\_PhD\\\\Papers - Drafts\\\\J5_JASA_Lockdown-SS\\\\data\")\n",
    "ssidData = pd.read_csv(DATA_DIR.joinpath(\"2020-08-11\\\\LondonBINResults_2020-08-10.csv\"))\n",
    "ssidData.head()"
   ]
  },
  {
   "cell_type": "markdown",
   "metadata": {},
   "source": [
    "## Reshape, standardise, and filter the data"
   ]
  },
  {
   "cell_type": "code",
   "execution_count": 82,
   "metadata": {
    "tags": []
   },
   "outputs": [
    {
     "output_type": "execute_result",
     "data": {
      "text/plain": "  GroupID   Natural   overall  Pleasant  Eventful        FS      FS_5  \\\n0   CT101  1.666667  2.666667 -0.229780  0.284518  0.158062 -0.134407   \n1   CT102  1.000000  2.000000  0.103553 -0.750000  0.217614  0.064081   \n2   CT103  1.000000  3.000000  0.250000  0.750000 -0.378574 -0.442926   \n3   CT104  1.000000  2.000000  0.073223  0.676777 -0.000746 -0.127934   \n4   CT107  2.000000  4.000000  0.073223  0.366117  0.667568  0.269042   \n\n      FS_10     FS_50     FS_90  ...      S_M2  S_nrmse2    SIL_M0  \\\n0  0.060300  0.394966  0.005514  ...  0.093033 -0.986620  0.097000   \n1  0.204233  0.290698  0.399773  ... -0.558087 -1.371447 -1.077617   \n2 -0.408919 -0.289194 -0.172290  ... -0.546989  0.054116 -0.240687   \n3 -0.080753  0.026017  0.269899  ...  0.074412 -1.109990 -1.444458   \n4  0.466189  0.731832  0.965651  ... -0.722239 -0.523214  0.429350   \n\n   SIL_nrmse0      T_M0  T_nrmse0  LocationID    SessionID  Lockdown  \\\n0   -0.104060 -0.327324 -0.048898  CamdenTown  CamdenTown1         1   \n1   -0.100549 -0.277098 -0.049036  CamdenTown  CamdenTown1         1   \n2   -0.104391 -0.343367 -0.048971  CamdenTown  CamdenTown1         1   \n3   -0.087578  0.727215 -0.049255  CamdenTown  CamdenTown1         1   \n4   -0.104047 -0.918465 -0.031732  CamdenTown  CamdenTown1         1   \n\n   LocationID_codes  \n0                 0  \n1                 0  \n2                 0  \n3                 0  \n4                 0  \n\n[5 rows x 107 columns]",
      "text/html": "<div>\n<style scoped>\n    .dataframe tbody tr th:only-of-type {\n        vertical-align: middle;\n    }\n\n    .dataframe tbody tr th {\n        vertical-align: top;\n    }\n\n    .dataframe thead th {\n        text-align: right;\n    }\n</style>\n<table border=\"1\" class=\"dataframe\">\n  <thead>\n    <tr style=\"text-align: right;\">\n      <th></th>\n      <th>GroupID</th>\n      <th>Natural</th>\n      <th>overall</th>\n      <th>Pleasant</th>\n      <th>Eventful</th>\n      <th>FS</th>\n      <th>FS_5</th>\n      <th>FS_10</th>\n      <th>FS_50</th>\n      <th>FS_90</th>\n      <th>...</th>\n      <th>S_M2</th>\n      <th>S_nrmse2</th>\n      <th>SIL_M0</th>\n      <th>SIL_nrmse0</th>\n      <th>T_M0</th>\n      <th>T_nrmse0</th>\n      <th>LocationID</th>\n      <th>SessionID</th>\n      <th>Lockdown</th>\n      <th>LocationID_codes</th>\n    </tr>\n  </thead>\n  <tbody>\n    <tr>\n      <th>0</th>\n      <td>CT101</td>\n      <td>1.666667</td>\n      <td>2.666667</td>\n      <td>-0.229780</td>\n      <td>0.284518</td>\n      <td>0.158062</td>\n      <td>-0.134407</td>\n      <td>0.060300</td>\n      <td>0.394966</td>\n      <td>0.005514</td>\n      <td>...</td>\n      <td>0.093033</td>\n      <td>-0.986620</td>\n      <td>0.097000</td>\n      <td>-0.104060</td>\n      <td>-0.327324</td>\n      <td>-0.048898</td>\n      <td>CamdenTown</td>\n      <td>CamdenTown1</td>\n      <td>1</td>\n      <td>0</td>\n    </tr>\n    <tr>\n      <th>1</th>\n      <td>CT102</td>\n      <td>1.000000</td>\n      <td>2.000000</td>\n      <td>0.103553</td>\n      <td>-0.750000</td>\n      <td>0.217614</td>\n      <td>0.064081</td>\n      <td>0.204233</td>\n      <td>0.290698</td>\n      <td>0.399773</td>\n      <td>...</td>\n      <td>-0.558087</td>\n      <td>-1.371447</td>\n      <td>-1.077617</td>\n      <td>-0.100549</td>\n      <td>-0.277098</td>\n      <td>-0.049036</td>\n      <td>CamdenTown</td>\n      <td>CamdenTown1</td>\n      <td>1</td>\n      <td>0</td>\n    </tr>\n    <tr>\n      <th>2</th>\n      <td>CT103</td>\n      <td>1.000000</td>\n      <td>3.000000</td>\n      <td>0.250000</td>\n      <td>0.750000</td>\n      <td>-0.378574</td>\n      <td>-0.442926</td>\n      <td>-0.408919</td>\n      <td>-0.289194</td>\n      <td>-0.172290</td>\n      <td>...</td>\n      <td>-0.546989</td>\n      <td>0.054116</td>\n      <td>-0.240687</td>\n      <td>-0.104391</td>\n      <td>-0.343367</td>\n      <td>-0.048971</td>\n      <td>CamdenTown</td>\n      <td>CamdenTown1</td>\n      <td>1</td>\n      <td>0</td>\n    </tr>\n    <tr>\n      <th>3</th>\n      <td>CT104</td>\n      <td>1.000000</td>\n      <td>2.000000</td>\n      <td>0.073223</td>\n      <td>0.676777</td>\n      <td>-0.000746</td>\n      <td>-0.127934</td>\n      <td>-0.080753</td>\n      <td>0.026017</td>\n      <td>0.269899</td>\n      <td>...</td>\n      <td>0.074412</td>\n      <td>-1.109990</td>\n      <td>-1.444458</td>\n      <td>-0.087578</td>\n      <td>0.727215</td>\n      <td>-0.049255</td>\n      <td>CamdenTown</td>\n      <td>CamdenTown1</td>\n      <td>1</td>\n      <td>0</td>\n    </tr>\n    <tr>\n      <th>4</th>\n      <td>CT107</td>\n      <td>2.000000</td>\n      <td>4.000000</td>\n      <td>0.073223</td>\n      <td>0.366117</td>\n      <td>0.667568</td>\n      <td>0.269042</td>\n      <td>0.466189</td>\n      <td>0.731832</td>\n      <td>0.965651</td>\n      <td>...</td>\n      <td>-0.722239</td>\n      <td>-0.523214</td>\n      <td>0.429350</td>\n      <td>-0.104047</td>\n      <td>-0.918465</td>\n      <td>-0.031732</td>\n      <td>CamdenTown</td>\n      <td>CamdenTown1</td>\n      <td>1</td>\n      <td>0</td>\n    </tr>\n  </tbody>\n</table>\n<p>5 rows × 107 columns</p>\n</div>"
     },
     "metadata": {},
     "execution_count": 82
    }
   ],
   "source": [
    "for col_name in [\"Lockdown\"]:\n",
    "    ssidData[col_name] = ssidData[col_name].astype('category')\n",
    "\n",
    "acoustic_vars = [\"FS\", \"FS_5\", \"FS_10\", \"FS_50\", \"FS_90\", \"FS_95\", \"FS_Min\", \"FS_Max\", \"FS_5-FS_95\", \"FS_10-FS_90\", \"FS_Max-FS_Min\", \"LAeq\", \"LAeq_5\", \"LAeq_10\", \"LAeq_50\", \"LAeq_90\", \"LAeq_95\", \"LAeq_Max\", \"LAeq_Min\", \"LAeq_10-LAeq_90\", \"LAeq_5-LAeq_95\", \"LAeq_Max-LAeq_Min\", \"N_5\", \"N_10\", \"N_50\", \"N_90\", \"N_95\", \"N_Min\", \"N_Max\", \"N_5-N_95\", \"N_10-N_90\", \"N_Max-N_Min\", \"R\", \"R_5\", \"R_10\", \"R_50\", \"R_90\", \"R_95\", \"R_Min\", \"R_Max\", \"R_5-R_95\", \"R_10-R_90\", \"R_Max-R_Min\", \"S\", \"S_5\", \"S_10\", \"S_50\", \"S_90\", \"S_95\", \"S_Min\", \"S_Max\", \"S_5-S_95\", \"S_10-S_90\", \"S_Max-S_Min\", \"SIL_5\", \"SIL_10\", \"SIL_50\", \"SIL_90\", \"SIL_95\", \"SIL_Min\", \"SIL_Max\", \"SIL_5-SIL_95\", \"SIL_10-SIL_90\", \"SIL_Max-SIL_Min\", \"T_5\", \"T_10\", \"T_50\", \"T_90\", \"T_95\", \"T_Max\", \"T_5-T_95\", \"T_10-T_90\", \"SpectralCentroid\", \"MaxFreq\", \"PeakSpectralCentroid\", \"PeakMaxFreq\", \"FS_M0\", \"FS_nrmse0\", \"LAeq_M0\", \"LAeq_nrmse0\", \"N_M0\", \"N_nrmse0\", \"N_M1\", \"N_nrmse1\", \"N_M2\", \"N_nrmse2\", \"R_M0\", \"R_nrmse0\", \"S_M0\", \"S_nrmse0\", \"S_M1\", \"S_nrmse1\", \"S_M2\", \"S_nrmse2\", \"SIL_M0\", \"SIL_nrmse0\", \"T_M0\", \"T_nrmse0\"]\n",
    "\n",
    "dep_vars = [\"Natural\", \"overall\", \"Pleasant\", \"Eventful\"]\n",
    "\n",
    "# Cutdown the dataset\n",
    "cols = [\"GroupID\", \"LocationID\", \"SessionID\", \"Lockdown\"] + dep_vars + acoustic_vars\n",
    "ssidData = ssidData[cols]\n",
    "\n",
    "# Compress to mean of each GroupID\n",
    "compressData = ssidData.groupby([\"GroupID\"]).mean()\n",
    "compressData = compressData.merge(ssidData[[\"GroupID\", \"LocationID\", \"SessionID\", \"Lockdown\"]].drop_duplicates(),  on=\"GroupID\")\n",
    "\n",
    "# Standardise\n",
    "from sklearn.preprocessing import StandardScaler\n",
    "scaler = StandardScaler()\n",
    "compressData[acoustic_vars] = scaler.fit_transform(compressData[acoustic_vars])\n",
    "\n",
    "location_codes = pd.Categorical(compressData[\"LocationID\"]).codes\n",
    "compressData[\"LocationID_codes\"] = location_codes\n",
    "compressData.head()\n"
   ]
  },
  {
   "cell_type": "markdown",
   "metadata": {},
   "source": [
    "Split into pre- and during-lockdown datasets"
   ]
  },
  {
   "cell_type": "code",
   "execution_count": 83,
   "metadata": {
    "tags": []
   },
   "outputs": [
    {
     "output_type": "stream",
     "name": "stdout",
     "text": "(620, 107)\n"
    },
    {
     "output_type": "execute_result",
     "data": {
      "text/plain": "  GroupID   Natural   overall  Pleasant  Eventful        FS      FS_5  \\\n0   CT101  1.666667  2.666667 -0.229780  0.284518  0.158062 -0.134407   \n1   CT102  1.000000  2.000000  0.103553 -0.750000  0.217614  0.064081   \n2   CT103  1.000000  3.000000  0.250000  0.750000 -0.378574 -0.442926   \n3   CT104  1.000000  2.000000  0.073223  0.676777 -0.000746 -0.127934   \n4   CT107  2.000000  4.000000  0.073223  0.366117  0.667568  0.269042   \n\n      FS_10     FS_50     FS_90  ...      S_M2  S_nrmse2    SIL_M0  \\\n0  0.060300  0.394966  0.005514  ...  0.093033 -0.986620  0.097000   \n1  0.204233  0.290698  0.399773  ... -0.558087 -1.371447 -1.077617   \n2 -0.408919 -0.289194 -0.172290  ... -0.546989  0.054116 -0.240687   \n3 -0.080753  0.026017  0.269899  ...  0.074412 -1.109990 -1.444458   \n4  0.466189  0.731832  0.965651  ... -0.722239 -0.523214  0.429350   \n\n   SIL_nrmse0      T_M0  T_nrmse0  LocationID    SessionID  Lockdown  \\\n0   -0.104060 -0.327324 -0.048898  CamdenTown  CamdenTown1         1   \n1   -0.100549 -0.277098 -0.049036  CamdenTown  CamdenTown1         1   \n2   -0.104391 -0.343367 -0.048971  CamdenTown  CamdenTown1         1   \n3   -0.087578  0.727215 -0.049255  CamdenTown  CamdenTown1         1   \n4   -0.104047 -0.918465 -0.031732  CamdenTown  CamdenTown1         1   \n\n   LocationID_codes  \n0                 0  \n1                 0  \n2                 0  \n3                 0  \n4                 0  \n\n[5 rows x 107 columns]",
      "text/html": "<div>\n<style scoped>\n    .dataframe tbody tr th:only-of-type {\n        vertical-align: middle;\n    }\n\n    .dataframe tbody tr th {\n        vertical-align: top;\n    }\n\n    .dataframe thead th {\n        text-align: right;\n    }\n</style>\n<table border=\"1\" class=\"dataframe\">\n  <thead>\n    <tr style=\"text-align: right;\">\n      <th></th>\n      <th>GroupID</th>\n      <th>Natural</th>\n      <th>overall</th>\n      <th>Pleasant</th>\n      <th>Eventful</th>\n      <th>FS</th>\n      <th>FS_5</th>\n      <th>FS_10</th>\n      <th>FS_50</th>\n      <th>FS_90</th>\n      <th>...</th>\n      <th>S_M2</th>\n      <th>S_nrmse2</th>\n      <th>SIL_M0</th>\n      <th>SIL_nrmse0</th>\n      <th>T_M0</th>\n      <th>T_nrmse0</th>\n      <th>LocationID</th>\n      <th>SessionID</th>\n      <th>Lockdown</th>\n      <th>LocationID_codes</th>\n    </tr>\n  </thead>\n  <tbody>\n    <tr>\n      <th>0</th>\n      <td>CT101</td>\n      <td>1.666667</td>\n      <td>2.666667</td>\n      <td>-0.229780</td>\n      <td>0.284518</td>\n      <td>0.158062</td>\n      <td>-0.134407</td>\n      <td>0.060300</td>\n      <td>0.394966</td>\n      <td>0.005514</td>\n      <td>...</td>\n      <td>0.093033</td>\n      <td>-0.986620</td>\n      <td>0.097000</td>\n      <td>-0.104060</td>\n      <td>-0.327324</td>\n      <td>-0.048898</td>\n      <td>CamdenTown</td>\n      <td>CamdenTown1</td>\n      <td>1</td>\n      <td>0</td>\n    </tr>\n    <tr>\n      <th>1</th>\n      <td>CT102</td>\n      <td>1.000000</td>\n      <td>2.000000</td>\n      <td>0.103553</td>\n      <td>-0.750000</td>\n      <td>0.217614</td>\n      <td>0.064081</td>\n      <td>0.204233</td>\n      <td>0.290698</td>\n      <td>0.399773</td>\n      <td>...</td>\n      <td>-0.558087</td>\n      <td>-1.371447</td>\n      <td>-1.077617</td>\n      <td>-0.100549</td>\n      <td>-0.277098</td>\n      <td>-0.049036</td>\n      <td>CamdenTown</td>\n      <td>CamdenTown1</td>\n      <td>1</td>\n      <td>0</td>\n    </tr>\n    <tr>\n      <th>2</th>\n      <td>CT103</td>\n      <td>1.000000</td>\n      <td>3.000000</td>\n      <td>0.250000</td>\n      <td>0.750000</td>\n      <td>-0.378574</td>\n      <td>-0.442926</td>\n      <td>-0.408919</td>\n      <td>-0.289194</td>\n      <td>-0.172290</td>\n      <td>...</td>\n      <td>-0.546989</td>\n      <td>0.054116</td>\n      <td>-0.240687</td>\n      <td>-0.104391</td>\n      <td>-0.343367</td>\n      <td>-0.048971</td>\n      <td>CamdenTown</td>\n      <td>CamdenTown1</td>\n      <td>1</td>\n      <td>0</td>\n    </tr>\n    <tr>\n      <th>3</th>\n      <td>CT104</td>\n      <td>1.000000</td>\n      <td>2.000000</td>\n      <td>0.073223</td>\n      <td>0.676777</td>\n      <td>-0.000746</td>\n      <td>-0.127934</td>\n      <td>-0.080753</td>\n      <td>0.026017</td>\n      <td>0.269899</td>\n      <td>...</td>\n      <td>0.074412</td>\n      <td>-1.109990</td>\n      <td>-1.444458</td>\n      <td>-0.087578</td>\n      <td>0.727215</td>\n      <td>-0.049255</td>\n      <td>CamdenTown</td>\n      <td>CamdenTown1</td>\n      <td>1</td>\n      <td>0</td>\n    </tr>\n    <tr>\n      <th>4</th>\n      <td>CT107</td>\n      <td>2.000000</td>\n      <td>4.000000</td>\n      <td>0.073223</td>\n      <td>0.366117</td>\n      <td>0.667568</td>\n      <td>0.269042</td>\n      <td>0.466189</td>\n      <td>0.731832</td>\n      <td>0.965651</td>\n      <td>...</td>\n      <td>-0.722239</td>\n      <td>-0.523214</td>\n      <td>0.429350</td>\n      <td>-0.104047</td>\n      <td>-0.918465</td>\n      <td>-0.031732</td>\n      <td>CamdenTown</td>\n      <td>CamdenTown1</td>\n      <td>1</td>\n      <td>0</td>\n    </tr>\n  </tbody>\n</table>\n<p>5 rows × 107 columns</p>\n</div>"
     },
     "metadata": {},
     "execution_count": 83
    }
   ],
   "source": [
    "prelockdownData = compressData.loc[compressData[\"Lockdown\"] == 1]\n",
    "print(prelockdownData.shape)\n",
    "prelockdownData.head()"
   ]
  },
  {
   "cell_type": "code",
   "execution_count": 84,
   "metadata": {
    "tags": []
   },
   "outputs": [
    {
     "output_type": "stream",
     "name": "stdout",
     "text": "(481, 107)\n"
    },
    {
     "output_type": "execute_result",
     "data": {
      "text/plain": "   GroupID  Natural  overall  Pleasant  Eventful        FS      FS_5  \\\n57   CT501      NaN      NaN       NaN       NaN -0.503635 -0.550800   \n58   CT502      NaN      NaN       NaN       NaN -0.532750 -0.524910   \n59   CT503      NaN      NaN       NaN       NaN -0.047064  0.497735   \n60   CT504      NaN      NaN       NaN       NaN  0.237465  0.051137   \n61   CT505      NaN      NaN       NaN       NaN -0.212489 -0.205603   \n\n       FS_10     FS_50     FS_90  ...      S_M2  S_nrmse2    SIL_M0  \\\n57 -0.526943 -0.408701 -0.286702  ... -0.119110  0.659046 -0.425823   \n58 -0.475128 -0.513771 -0.394930  ... -1.111193 -0.805798  1.504482   \n59  0.169689 -0.350953 -0.275879  ...  0.623476 -1.850262  1.438965   \n60  0.169689  0.394966 -0.003763  ...  0.262401 -1.017468 -0.046886   \n61 -0.187263 -0.136802 -0.203212  ... -1.389140 -0.968412 -0.721310   \n\n    SIL_nrmse0      T_M0  T_nrmse0  LocationID    SessionID  Lockdown  \\\n57   -0.104331  1.205492 -0.049256  CamdenTown  CamdenTown5         2   \n58   -0.105003  2.105115 -0.049257  CamdenTown  CamdenTown5         2   \n59   -0.104789 -0.210116 -0.049109  CamdenTown  CamdenTown5         2   \n60   -0.101261  1.687615 -0.049257  CamdenTown  CamdenTown5         2   \n61   -0.100731 -0.151282 -0.049207  CamdenTown  CamdenTown5         2   \n\n    LocationID_codes  \n57                 0  \n58                 0  \n59                 0  \n60                 0  \n61                 0  \n\n[5 rows x 107 columns]",
      "text/html": "<div>\n<style scoped>\n    .dataframe tbody tr th:only-of-type {\n        vertical-align: middle;\n    }\n\n    .dataframe tbody tr th {\n        vertical-align: top;\n    }\n\n    .dataframe thead th {\n        text-align: right;\n    }\n</style>\n<table border=\"1\" class=\"dataframe\">\n  <thead>\n    <tr style=\"text-align: right;\">\n      <th></th>\n      <th>GroupID</th>\n      <th>Natural</th>\n      <th>overall</th>\n      <th>Pleasant</th>\n      <th>Eventful</th>\n      <th>FS</th>\n      <th>FS_5</th>\n      <th>FS_10</th>\n      <th>FS_50</th>\n      <th>FS_90</th>\n      <th>...</th>\n      <th>S_M2</th>\n      <th>S_nrmse2</th>\n      <th>SIL_M0</th>\n      <th>SIL_nrmse0</th>\n      <th>T_M0</th>\n      <th>T_nrmse0</th>\n      <th>LocationID</th>\n      <th>SessionID</th>\n      <th>Lockdown</th>\n      <th>LocationID_codes</th>\n    </tr>\n  </thead>\n  <tbody>\n    <tr>\n      <th>57</th>\n      <td>CT501</td>\n      <td>NaN</td>\n      <td>NaN</td>\n      <td>NaN</td>\n      <td>NaN</td>\n      <td>-0.503635</td>\n      <td>-0.550800</td>\n      <td>-0.526943</td>\n      <td>-0.408701</td>\n      <td>-0.286702</td>\n      <td>...</td>\n      <td>-0.119110</td>\n      <td>0.659046</td>\n      <td>-0.425823</td>\n      <td>-0.104331</td>\n      <td>1.205492</td>\n      <td>-0.049256</td>\n      <td>CamdenTown</td>\n      <td>CamdenTown5</td>\n      <td>2</td>\n      <td>0</td>\n    </tr>\n    <tr>\n      <th>58</th>\n      <td>CT502</td>\n      <td>NaN</td>\n      <td>NaN</td>\n      <td>NaN</td>\n      <td>NaN</td>\n      <td>-0.532750</td>\n      <td>-0.524910</td>\n      <td>-0.475128</td>\n      <td>-0.513771</td>\n      <td>-0.394930</td>\n      <td>...</td>\n      <td>-1.111193</td>\n      <td>-0.805798</td>\n      <td>1.504482</td>\n      <td>-0.105003</td>\n      <td>2.105115</td>\n      <td>-0.049257</td>\n      <td>CamdenTown</td>\n      <td>CamdenTown5</td>\n      <td>2</td>\n      <td>0</td>\n    </tr>\n    <tr>\n      <th>59</th>\n      <td>CT503</td>\n      <td>NaN</td>\n      <td>NaN</td>\n      <td>NaN</td>\n      <td>NaN</td>\n      <td>-0.047064</td>\n      <td>0.497735</td>\n      <td>0.169689</td>\n      <td>-0.350953</td>\n      <td>-0.275879</td>\n      <td>...</td>\n      <td>0.623476</td>\n      <td>-1.850262</td>\n      <td>1.438965</td>\n      <td>-0.104789</td>\n      <td>-0.210116</td>\n      <td>-0.049109</td>\n      <td>CamdenTown</td>\n      <td>CamdenTown5</td>\n      <td>2</td>\n      <td>0</td>\n    </tr>\n    <tr>\n      <th>60</th>\n      <td>CT504</td>\n      <td>NaN</td>\n      <td>NaN</td>\n      <td>NaN</td>\n      <td>NaN</td>\n      <td>0.237465</td>\n      <td>0.051137</td>\n      <td>0.169689</td>\n      <td>0.394966</td>\n      <td>-0.003763</td>\n      <td>...</td>\n      <td>0.262401</td>\n      <td>-1.017468</td>\n      <td>-0.046886</td>\n      <td>-0.101261</td>\n      <td>1.687615</td>\n      <td>-0.049257</td>\n      <td>CamdenTown</td>\n      <td>CamdenTown5</td>\n      <td>2</td>\n      <td>0</td>\n    </tr>\n    <tr>\n      <th>61</th>\n      <td>CT505</td>\n      <td>NaN</td>\n      <td>NaN</td>\n      <td>NaN</td>\n      <td>NaN</td>\n      <td>-0.212489</td>\n      <td>-0.205603</td>\n      <td>-0.187263</td>\n      <td>-0.136802</td>\n      <td>-0.203212</td>\n      <td>...</td>\n      <td>-1.389140</td>\n      <td>-0.968412</td>\n      <td>-0.721310</td>\n      <td>-0.100731</td>\n      <td>-0.151282</td>\n      <td>-0.049207</td>\n      <td>CamdenTown</td>\n      <td>CamdenTown5</td>\n      <td>2</td>\n      <td>0</td>\n    </tr>\n  </tbody>\n</table>\n<p>5 rows × 107 columns</p>\n</div>"
     },
     "metadata": {},
     "execution_count": 84
    }
   ],
   "source": [
    "lockdownData = compressData.loc[compressData[\"Lockdown\"] == 2]\n",
    "print(lockdownData.shape)\n",
    "lockdownData.head() "
   ]
  },
  {
   "cell_type": "markdown",
   "metadata": {},
   "source": [
    "## `overall` model\n",
    "### Partial correlation filtering"
   ]
  },
  {
   "cell_type": "code",
   "execution_count": 133,
   "metadata": {
    "tags": []
   },
   "outputs": [
    {
     "output_type": "execute_result",
     "data": {
      "text/plain": "{'FS_90': -0.1558819152084901,\n 'FS_Max-FS_Min': -0.030898698219446605,\n 'LAeq_10': -0.35610804837366805,\n 'LAeq_10-LAeq_90': -0.19280570733641145,\n 'N_5': -0.33848420675283586,\n 'N_10-N_90': -0.35104200723741347,\n 'R_95': -0.4375346924391178,\n 'R_10-R_90': -0.15844501931370966,\n 'S_Max': -0.12412961495139185,\n 'S_10-S_90': -0.22351738003765428,\n 'SIL_5': -0.35221911874401,\n 'SIL_5-SIL_95': -0.23612992298568908,\n 'T_50': -0.23492286716061253,\n 'T_10-T_90': -0.2072290531418789,\n 'PeakSpectralCentroid': -0.07668712957767493}"
     },
     "metadata": {},
     "execution_count": 133
    }
   ],
   "source": [
    "import pingouin as pg\n",
    "\n",
    "def max_pcor(feature_list, target_feature, covar, data):\n",
    "    cors_table = pd.DataFrame()\n",
    "    for feature in feature_list:\n",
    "        par_cor = pg.partial_corr(data, x=feature, y = target_feature, covar=covar)\n",
    "        cors_table[feature] = par_cor['r']\n",
    "    \n",
    "    cors_table = cors_table.T.squeeze()\n",
    "\n",
    "    max_feature = cors_table.abs().idxmax()\n",
    "    max_val = cors_table[max_feature]\n",
    "\n",
    "    return max_feature, max_val\n",
    "\n",
    "FS_stats = [\"FS\", \"FS_5\", \"FS_10\", \"FS_50\", \"FS_90\", \"FS_95\", \"FS_Min\", \"FS_Max\"]\n",
    "FS_variation = [\"FS_5-FS_95\", \"FS_10-FS_90\", \"FS_Max-FS_Min\"]\n",
    "LAeq_stats = [\"LAeq\", \"LAeq_5\", \"LAeq_10\", \"LAeq_50\", \"LAeq_90\", \"LAeq_95\", \"LAeq_Max\", \"LAeq_Min\"]\n",
    "LAeq_variation = [\"LAeq_10-LAeq_90\", \"LAeq_5-LAeq_95\", \"LAeq_Max-LAeq_Min\"]\n",
    "N_stats = [\"N_5\", \"N_10\", \"N_50\", \"N_90\", \"N_95\", \"N_Min\", \"N_Max\"]\n",
    "N_variation = [\"N_5-N_95\", \"N_10-N_90\", \"N_Max-N_Min\"]\n",
    "R_stats = [\"R\", \"R_5\", \"R_10\", \"R_50\", \"R_90\", \"R_95\", \"R_Min\", \"R_Max\"]\n",
    "R_variation = [\"R_5-R_95\", \"R_10-R_90\", \"R_Max-R_Min\"]\n",
    "S_stats = [\"S\", \"S_5\", \"S_10\", \"S_50\", \"S_90\", \"S_95\", \"S_Min\", \"S_Max\"]\n",
    "S_variation = [\"S_5-S_95\", \"S_10-S_90\", \"S_Max-S_Min\"]\n",
    "SIL_stats = [\"SIL_5\", \"SIL_10\", \"SIL_50\", \"SIL_90\", \"SIL_95\", \"SIL_Min\", \"SIL_Max\"]\n",
    "SIL_variation = [\"SIL_5-SIL_95\", \"SIL_10-SIL_90\", \"SIL_Max-SIL_Min\"]\n",
    "T_stats = [\"T_5\", \"T_10\", \"T_50\", \"T_90\", \"T_95\", \"T_Max\"]\n",
    "T_variation = [\"T_5-T_95\", \"T_10-T_90\"]\n",
    "frequency_features = [\"SpectralCentroid\", \"MaxFreq\", \"PeakSpectralCentroid\", \"PeakMaxFreq\"]\n",
    "\n",
    "all_features = [FS_stats, FS_variation, LAeq_stats, LAeq_variation, N_stats, N_variation, R_stats, R_variation, S_stats, S_variation, SIL_stats, SIL_variation, T_stats, T_variation, frequency_features]\n",
    "\n",
    "overall_features = {}\n",
    "for item in all_features:\n",
    "    feature, val = max_pcor(item, \"overall\", [\"LocationID_codes\"], prelockdownData)\n",
    "    overall_features[feature] = val\n",
    "overall_features"
   ]
  },
  {
   "cell_type": "code",
   "execution_count": 123,
   "metadata": {},
   "outputs": [
    {
     "output_type": "execute_result",
     "data": {
      "text/plain": "'FS_90'"
     },
     "metadata": {},
     "execution_count": 123
    }
   ],
   "source": [
    "FS_stats_corr.abs().idxmax()\n"
   ]
  },
  {
   "cell_type": "code",
   "execution_count": 72,
   "metadata": {},
   "outputs": [
    {
     "output_type": "execute_result",
     "data": {
      "text/plain": "dtype('int8')"
     },
     "metadata": {},
     "execution_count": 72
    }
   ],
   "source": []
  },
  {
   "cell_type": "code",
   "execution_count": null,
   "metadata": {},
   "outputs": [],
   "source": []
  }
 ]
}