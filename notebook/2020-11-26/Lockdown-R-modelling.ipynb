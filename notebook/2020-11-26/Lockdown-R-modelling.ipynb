{
 "cells": [
  {
   "cell_type": "code",
   "execution_count": 4,
   "metadata": {},
   "outputs": [
    {
     "output_type": "error",
     "ename": "SyntaxError",
     "evalue": "invalid syntax (<ipython-input-4-e5089951fdda>, line 20)",
     "traceback": [
      "\u001b[1;36m  File \u001b[1;32m\"<ipython-input-4-e5089951fdda>\"\u001b[1;36m, line \u001b[1;32m20\u001b[0m\n\u001b[1;33m    prelockdownData <- prelockdownData %>% mutate_at(vars(GroupID, LocationID),\u001b[0m\n\u001b[1;37m                                        ^\u001b[0m\n\u001b[1;31mSyntaxError\u001b[0m\u001b[1;31m:\u001b[0m invalid syntax\n"
     ]
    }
   ],
   "source": [
    "library(here)   # file path handline\n",
    "# library(MASS)   # Modelling\n",
    "library(readxl)\n",
    "library(dplyr)  # piping\n",
    "library(glue)\n",
    "library(lmerTest)\n",
    "# library(nlme)\n",
    "# library(MuMIn)\n",
    "library(car)\n",
    "# library(ggplot2)\n",
    "\n",
    "%%capture\n",
    "\n",
    "prelockdownData <- read.csv(here(\"data\", \"2020-09-01\", \"prelockdownData.csv\"))\n",
    "lockdownData <- read.csv(here(\"data\", \"2020-09-01\", \"lockdownData.csv\"))\n",
    "\n",
    "prelockdownDataTrain <- read.csv(here(\"data\", \"2020-09-01\", \"prelockdownDataTrain.csv\"))\n",
    "prelockdownDataTest <- read.csv(here(\"data\", \"2020-09-01\", \"prelockdownDataTest.csv\"))\n",
    "\n",
    "prelockdownData <- prelockdownData %>% mutate_at(vars(GroupID, LocationID),\n",
    "                                     funs(as.factor))\n",
    "lockdownData <- lockdownData %>% mutate_at(vars(GroupID, LocationID),\n",
    "                                     funs(as.factor))\n",
    "\n",
    "prelockdownDataTrain <- prelockdownDataTrain %>% mutate_at(vars(GroupID, LocationID),\n",
    "                                     funs(as.factor))\n",
    "prelockdownDataTest <- prelockdownDataTest %>% mutate_at(vars(GroupID, LocationID),\n",
    "                                     funs(as.factor))"
   ]
  },
  {
   "cell_type": "markdown",
   "metadata": {},
   "source": [
    "## `Pleasant` model"
   ]
  },
  {
   "cell_type": "code",
   "execution_count": 2,
   "metadata": {},
   "outputs": [
    {
     "name": "stderr",
     "output_type": "stream",
     "text": [
      "boundary (singular) fit: see ?isSingular\n"
     ]
    },
    {
     "data": {
      "text/plain": [
       "Linear mixed model fit by maximum likelihood . t-tests use Satterthwaite's\n",
       "  method [lmerModLmerTest]\n",
       "Formula: Pleasant_formula\n",
       "   Data: prelockdownData\n",
       "\n",
       "     AIC      BIC   logLik deviance df.resid \n",
       "   347.4    473.2   -145.7    291.4      633 \n",
       "\n",
       "Scaled residuals: \n",
       "    Min      1Q  Median      3Q     Max \n",
       "-4.9120 -0.5818  0.1081  0.6424  2.5363 \n",
       "\n",
       "Random effects:\n",
       " Groups     Name                 Variance  Std.Dev. Corr                   \n",
       " LocationID (Intercept)          0.0175639 0.13253                         \n",
       "            LZeq                 0.0113930 0.10674   0.18                  \n",
       "            THD_95               0.0025987 0.05098   0.86  0.29            \n",
       "            PeakSpectralCentroid 0.0069656 0.08346  -0.06 -0.28  0.08      \n",
       "            LZeq_10_LZeq_90      0.0031260 0.05591  -0.21 -0.80 -0.52  0.39\n",
       "            I                    0.0008866 0.02978  -0.29 -0.67 -0.56 -0.47\n",
       " Residual                        0.0829318 0.28798                         \n",
       "      \n",
       "      \n",
       "      \n",
       "      \n",
       "      \n",
       "      \n",
       "  0.56\n",
       "      \n",
       "Number of obs: 661, groups:  LocationID, 13\n",
       "\n",
       "Fixed effects:\n",
       "                      Estimate Std. Error        df t value Pr(>|t|)   \n",
       "(Intercept)           0.282351   0.043664  3.427963   6.466  0.00494 **\n",
       "LZeq                 -0.098106   0.039386  6.861749  -2.491  0.04221 * \n",
       "THD_95                0.006966   0.020401 10.298778   0.341  0.73962   \n",
       "PeakSpectralCentroid -0.040473   0.033007 13.767863  -1.226  0.24069   \n",
       "LZeq_10_LZeq_90       0.007560   0.026603  9.616337   0.284  0.78231   \n",
       "I                     0.017862   0.018359 10.525724   0.973  0.35243   \n",
       "---\n",
       "Signif. codes:  0 '***' 0.001 '**' 0.01 '*' 0.05 '.' 0.1 ' ' 1\n",
       "\n",
       "Correlation of Fixed Effects:\n",
       "            (Intr) LZeq   THD_95 PkSpcC LZ_10_\n",
       "LZeq         0.060                            \n",
       "THD_95       0.519  0.224                     \n",
       "PkSpctrlCnt -0.186 -0.131 -0.050              \n",
       "LZ_10_LZ_90 -0.040 -0.679 -0.259  0.238       \n",
       "I           -0.068 -0.285 -0.174 -0.324  0.114\n",
       "convergence code: 0\n",
       "boundary (singular) fit: see ?isSingular\n"
      ]
     },
     "metadata": {},
     "output_type": "display_data"
    },
    {
     "name": "stderr",
     "output_type": "stream",
     "text": [
      "Warning message:\n",
      "\"'r.squaredGLMM' now calculates a revised statistic. See the help page.\""
     ]
    },
    {
     "data": {
      "text/html": [
       "<table>\n",
       "<caption>A matrix: 1 × 2 of type dbl</caption>\n",
       "<thead>\n",
       "\t<tr><th scope=col>R2m</th><th scope=col>R2c</th></tr>\n",
       "</thead>\n",
       "<tbody>\n",
       "\t<tr><td>0.06550305</td><td>0.3565471</td></tr>\n",
       "</tbody>\n",
       "</table>\n"
      ],
      "text/latex": [
       "A matrix: 1 × 2 of type dbl\n",
       "\\begin{tabular}{ll}\n",
       " R2m & R2c\\\\\n",
       "\\hline\n",
       "\t 0.06550305 & 0.3565471\\\\\n",
       "\\end{tabular}\n"
      ],
      "text/markdown": [
       "\n",
       "A matrix: 1 × 2 of type dbl\n",
       "\n",
       "| R2m | R2c |\n",
       "|---|---|\n",
       "| 0.06550305 | 0.3565471 |\n",
       "\n"
      ],
      "text/plain": [
       "     R2m        R2c      \n",
       "[1,] 0.06550305 0.3565471"
      ]
     },
     "metadata": {},
     "output_type": "display_data"
    },
    {
     "data": {
      "text/html": [
       "<table>\n",
       "<caption>A data.frame: 13 × 6</caption>\n",
       "<thead>\n",
       "\t<tr><th></th><th scope=col>(Intercept)</th><th scope=col>LZeq</th><th scope=col>THD_95</th><th scope=col>PeakSpectralCentroid</th><th scope=col>LZeq_10_LZeq_90</th><th scope=col>I</th></tr>\n",
       "\t<tr><th></th><th scope=col>&lt;dbl&gt;</th><th scope=col>&lt;dbl&gt;</th><th scope=col>&lt;dbl&gt;</th><th scope=col>&lt;dbl&gt;</th><th scope=col>&lt;dbl&gt;</th><th scope=col>&lt;dbl&gt;</th></tr>\n",
       "</thead>\n",
       "<tbody>\n",
       "\t<tr><th scope=row>CamdenTown</th><td>-0.17680585</td><td>-0.06468630</td><td>-0.084279686</td><td> 0.05853675</td><td> 0.074919587</td><td> 0.0153725137</td></tr>\n",
       "\t<tr><th scope=row>EustonTap</th><td>-0.21687085</td><td>-0.12823904</td><td>-0.063061332</td><td> 0.05218477</td><td> 0.046004204</td><td> 0.0225625849</td></tr>\n",
       "\t<tr><th scope=row>MarchmontGarden</th><td>-0.06693256</td><td> 0.10197290</td><td>-0.039919568</td><td>-0.15662502</td><td>-0.043377264</td><td> 0.0216744263</td></tr>\n",
       "\t<tr><th scope=row>MonumentoGaribaldi</th><td> 0.04236716</td><td> 0.03702818</td><td> 0.014494740</td><td>-0.04024628</td><td>-0.023245076</td><td>-0.0007547008</td></tr>\n",
       "\t<tr><th scope=row>PancrasLock</th><td> 0.03279304</td><td>-0.05620934</td><td> 0.038962275</td><td> 0.05153221</td><td>-0.009750256</td><td>-0.0089140444</td></tr>\n",
       "\t<tr><th scope=row>RegentsParkFields</th><td> 0.05587881</td><td>-0.07290207</td><td> 0.008028177</td><td>-0.04912060</td><td> 0.017900281</td><td> 0.0266267199</td></tr>\n",
       "\t<tr><th scope=row>RegentsParkJapan</th><td> 0.20575097</td><td>-0.05386460</td><td> 0.060427826</td><td> 0.03743872</td><td> 0.026275447</td><td>-0.0043347688</td></tr>\n",
       "\t<tr><th scope=row>RussellSq</th><td> 0.11888746</td><td> 0.12837885</td><td> 0.056085550</td><td> 0.05682222</td><td>-0.046346124</td><td>-0.0495702470</td></tr>\n",
       "\t<tr><th scope=row>SanMarco</th><td>-0.00838270</td><td>-0.08540432</td><td>-0.004191997</td><td> 0.02153289</td><td> 0.031019042</td><td> 0.0138156148</td></tr>\n",
       "\t<tr><th scope=row>StPaulsCross</th><td> 0.08019875</td><td> 0.08733094</td><td> 0.043316992</td><td>-0.03058467</td><td>-0.057436259</td><td>-0.0195956084</td></tr>\n",
       "\t<tr><th scope=row>StPaulsRow</th><td>-0.04214002</td><td>-0.03510772</td><td>-0.031109025</td><td>-0.03425413</td><td> 0.024771732</td><td> 0.0216116135</td></tr>\n",
       "\t<tr><th scope=row>TateModern</th><td> 0.08587608</td><td> 0.03110465</td><td> 0.024533045</td><td> 0.04858622</td><td> 0.006415008</td><td>-0.0202534975</td></tr>\n",
       "\t<tr><th scope=row>TorringtonSq</th><td>-0.11062030</td><td> 0.11059789</td><td>-0.023286997</td><td>-0.01580307</td><td>-0.047150323</td><td>-0.0182406062</td></tr>\n",
       "</tbody>\n",
       "</table>\n"
      ],
      "text/latex": [
       "A data.frame: 13 × 6\n",
       "\\begin{tabular}{r|llllll}\n",
       "  & (Intercept) & LZeq & THD\\_95 & PeakSpectralCentroid & LZeq\\_10\\_LZeq\\_90 & I\\\\\n",
       "  & <dbl> & <dbl> & <dbl> & <dbl> & <dbl> & <dbl>\\\\\n",
       "\\hline\n",
       "\tCamdenTown & -0.17680585 & -0.06468630 & -0.084279686 &  0.05853675 &  0.074919587 &  0.0153725137\\\\\n",
       "\tEustonTap & -0.21687085 & -0.12823904 & -0.063061332 &  0.05218477 &  0.046004204 &  0.0225625849\\\\\n",
       "\tMarchmontGarden & -0.06693256 &  0.10197290 & -0.039919568 & -0.15662502 & -0.043377264 &  0.0216744263\\\\\n",
       "\tMonumentoGaribaldi &  0.04236716 &  0.03702818 &  0.014494740 & -0.04024628 & -0.023245076 & -0.0007547008\\\\\n",
       "\tPancrasLock &  0.03279304 & -0.05620934 &  0.038962275 &  0.05153221 & -0.009750256 & -0.0089140444\\\\\n",
       "\tRegentsParkFields &  0.05587881 & -0.07290207 &  0.008028177 & -0.04912060 &  0.017900281 &  0.0266267199\\\\\n",
       "\tRegentsParkJapan &  0.20575097 & -0.05386460 &  0.060427826 &  0.03743872 &  0.026275447 & -0.0043347688\\\\\n",
       "\tRussellSq &  0.11888746 &  0.12837885 &  0.056085550 &  0.05682222 & -0.046346124 & -0.0495702470\\\\\n",
       "\tSanMarco & -0.00838270 & -0.08540432 & -0.004191997 &  0.02153289 &  0.031019042 &  0.0138156148\\\\\n",
       "\tStPaulsCross &  0.08019875 &  0.08733094 &  0.043316992 & -0.03058467 & -0.057436259 & -0.0195956084\\\\\n",
       "\tStPaulsRow & -0.04214002 & -0.03510772 & -0.031109025 & -0.03425413 &  0.024771732 &  0.0216116135\\\\\n",
       "\tTateModern &  0.08587608 &  0.03110465 &  0.024533045 &  0.04858622 &  0.006415008 & -0.0202534975\\\\\n",
       "\tTorringtonSq & -0.11062030 &  0.11059789 & -0.023286997 & -0.01580307 & -0.047150323 & -0.0182406062\\\\\n",
       "\\end{tabular}\n"
      ],
      "text/markdown": [
       "\n",
       "A data.frame: 13 × 6\n",
       "\n",
       "| <!--/--> | (Intercept) &lt;dbl&gt; | LZeq &lt;dbl&gt; | THD_95 &lt;dbl&gt; | PeakSpectralCentroid &lt;dbl&gt; | LZeq_10_LZeq_90 &lt;dbl&gt; | I &lt;dbl&gt; |\n",
       "|---|---|---|---|---|---|---|\n",
       "| CamdenTown | -0.17680585 | -0.06468630 | -0.084279686 |  0.05853675 |  0.074919587 |  0.0153725137 |\n",
       "| EustonTap | -0.21687085 | -0.12823904 | -0.063061332 |  0.05218477 |  0.046004204 |  0.0225625849 |\n",
       "| MarchmontGarden | -0.06693256 |  0.10197290 | -0.039919568 | -0.15662502 | -0.043377264 |  0.0216744263 |\n",
       "| MonumentoGaribaldi |  0.04236716 |  0.03702818 |  0.014494740 | -0.04024628 | -0.023245076 | -0.0007547008 |\n",
       "| PancrasLock |  0.03279304 | -0.05620934 |  0.038962275 |  0.05153221 | -0.009750256 | -0.0089140444 |\n",
       "| RegentsParkFields |  0.05587881 | -0.07290207 |  0.008028177 | -0.04912060 |  0.017900281 |  0.0266267199 |\n",
       "| RegentsParkJapan |  0.20575097 | -0.05386460 |  0.060427826 |  0.03743872 |  0.026275447 | -0.0043347688 |\n",
       "| RussellSq |  0.11888746 |  0.12837885 |  0.056085550 |  0.05682222 | -0.046346124 | -0.0495702470 |\n",
       "| SanMarco | -0.00838270 | -0.08540432 | -0.004191997 |  0.02153289 |  0.031019042 |  0.0138156148 |\n",
       "| StPaulsCross |  0.08019875 |  0.08733094 |  0.043316992 | -0.03058467 | -0.057436259 | -0.0195956084 |\n",
       "| StPaulsRow | -0.04214002 | -0.03510772 | -0.031109025 | -0.03425413 |  0.024771732 |  0.0216116135 |\n",
       "| TateModern |  0.08587608 |  0.03110465 |  0.024533045 |  0.04858622 |  0.006415008 | -0.0202534975 |\n",
       "| TorringtonSq | -0.11062030 |  0.11059789 | -0.023286997 | -0.01580307 | -0.047150323 | -0.0182406062 |\n",
       "\n"
      ],
      "text/plain": [
       "                   (Intercept) LZeq        THD_95       PeakSpectralCentroid\n",
       "CamdenTown         -0.17680585 -0.06468630 -0.084279686  0.05853675         \n",
       "EustonTap          -0.21687085 -0.12823904 -0.063061332  0.05218477         \n",
       "MarchmontGarden    -0.06693256  0.10197290 -0.039919568 -0.15662502         \n",
       "MonumentoGaribaldi  0.04236716  0.03702818  0.014494740 -0.04024628         \n",
       "PancrasLock         0.03279304 -0.05620934  0.038962275  0.05153221         \n",
       "RegentsParkFields   0.05587881 -0.07290207  0.008028177 -0.04912060         \n",
       "RegentsParkJapan    0.20575097 -0.05386460  0.060427826  0.03743872         \n",
       "RussellSq           0.11888746  0.12837885  0.056085550  0.05682222         \n",
       "SanMarco           -0.00838270 -0.08540432 -0.004191997  0.02153289         \n",
       "StPaulsCross        0.08019875  0.08733094  0.043316992 -0.03058467         \n",
       "StPaulsRow         -0.04214002 -0.03510772 -0.031109025 -0.03425413         \n",
       "TateModern          0.08587608  0.03110465  0.024533045  0.04858622         \n",
       "TorringtonSq       -0.11062030  0.11059789 -0.023286997 -0.01580307         \n",
       "                   LZeq_10_LZeq_90 I            \n",
       "CamdenTown          0.074919587     0.0153725137\n",
       "EustonTap           0.046004204     0.0225625849\n",
       "MarchmontGarden    -0.043377264     0.0216744263\n",
       "MonumentoGaribaldi -0.023245076    -0.0007547008\n",
       "PancrasLock        -0.009750256    -0.0089140444\n",
       "RegentsParkFields   0.017900281     0.0266267199\n",
       "RegentsParkJapan    0.026275447    -0.0043347688\n",
       "RussellSq          -0.046346124    -0.0495702470\n",
       "SanMarco            0.031019042     0.0138156148\n",
       "StPaulsCross       -0.057436259    -0.0195956084\n",
       "StPaulsRow          0.024771732     0.0216116135\n",
       "TateModern          0.006415008    -0.0202534975\n",
       "TorringtonSq       -0.047150323    -0.0182406062"
      ]
     },
     "metadata": {},
     "output_type": "display_data"
    },
    {
     "data": {
      "text/html": [
       "<span style=white-space:pre-wrap>'Predicted - Actual Correlation: 0.672457  '</span>"
      ],
      "text/latex": [
       "'Predicted - Actual Correlation: 0.672457  '"
      ],
      "text/markdown": [
       "<span style=white-space:pre-wrap>'Predicted - Actual Correlation: 0.672457  '</span>"
      ],
      "text/plain": [
       "[1] \"Predicted - Actual Correlation: 0.672457  \""
      ]
     },
     "metadata": {},
     "output_type": "display_data"
    },
    {
     "data": {
      "text/html": [
       "<span style=white-space:pre-wrap>'Predicted - Actual Variance: 0.061786  '</span>"
      ],
      "text/latex": [
       "'Predicted - Actual Variance: 0.061786  '"
      ],
      "text/markdown": [
       "<span style=white-space:pre-wrap>'Predicted - Actual Variance: 0.061786  '</span>"
      ],
      "text/plain": [
       "[1] \"Predicted - Actual Variance: 0.061786  \""
      ]
     },
     "metadata": {},
     "output_type": "display_data"
    },
    {
     "name": "stdout",
     "output_type": "stream",
     "text": [
      "[1] \"Actual summary:\"\n",
      "     Min.   1st Qu.    Median      Mean   3rd Qu.      Max. \n",
      "-0.853553 -0.006282  0.316942  0.268248  0.563801  1.000000 \n",
      "[1] \"Predicted summary:\"\n",
      "   Min. 1st Qu.  Median    Mean 3rd Qu.    Max. \n",
      "-0.5486  0.1173  0.3114  0.2682  0.4481  0.7345 \n"
     ]
    },
    {
     "name": "stderr",
     "output_type": "stream",
     "text": [
      "`geom_smooth()` using formula 'y ~ x'\n"
     ]
    },
    {
     "data": {
      "image/png": "[encoded data removed]",
      "text/plain": [
       "plot without title"
      ]
     },
     "metadata": {},
     "output_type": "display_data"
    }
   ],
   "source": [
    "Pleasant_formula <- as.formula(\"Pleasant ~ LZeq + THD_95 + PeakSpectralCentroid + LZeq_10_LZeq_90 + I + (LZeq + THD_95 + PeakSpectralCentroid + LZeq_10_LZeq_90 + I|LocationID)\")\n",
    "Pleasant_model <- lmerTest::lmer(Pleasant_formula, data = prelockdownData, REML=FALSE)\n",
    "\n",
    "summary(Pleasant_model)\n",
    "r.squaredGLMM(Pleasant_model)\n",
    "ranef(Pleasant_model)$LocationID\n",
    "\n",
    "# Predicting\n",
    "prelockdownData$Pleasant_pred <- predict(Pleasant_model, newdata = prelockdownData)\n",
    "sprintf(fmt = \"%-10s%-10f\", \"Predicted - Actual Correlation: \", cor(prelockdownData$Pleasant, prelockdownData$Pleasant_pred))\n",
    "sprintf(fmt = \"%-10s%-10f\", \"Predicted - Actual Variance: \", var(prelockdownData$Pleasant, prelockdownData$Pleasant_pred))\n",
    "\n",
    "print(\"Actual summary:\")\n",
    "print(summary(prelockdownData$Pleasant))\n",
    "print(\"Predicted summary:\")\n",
    "print(summary(prelockdownData$Pleasant_pred))\n",
    "ggplot(prelockdownData, aes(x=Pleasant, y=Pleasant_pred)) + geom_point() +\n",
    "    geom_smooth(method=lm)"
   ]
  },
  {
   "cell_type": "markdown",
   "metadata": {},
   "source": [
    "## `Eventful` model"
   ]
  },
  {
   "cell_type": "code",
   "execution_count": 3,
   "metadata": {},
   "outputs": [
    {
     "name": "stderr",
     "output_type": "stream",
     "text": [
      "boundary (singular) fit: see ?isSingular\n"
     ]
    },
    {
     "data": {
      "text/plain": [
       "Linear mixed model fit by maximum likelihood . t-tests use Satterthwaite's\n",
       "  method [lmerModLmerTest]\n",
       "Formula: Eventful_formula\n",
       "   Data: prelockdownData\n",
       "\n",
       "     AIC      BIC   logLik deviance df.resid \n",
       "   120.6    165.5    -50.3    100.6      651 \n",
       "\n",
       "Scaled residuals: \n",
       "    Min      1Q  Median      3Q     Max \n",
       "-4.3597 -0.6950 -0.0020  0.6888  3.1593 \n",
       "\n",
       "Random effects:\n",
       " Groups     Name        Variance Std.Dev. Corr       \n",
       " LocationID (Intercept) 0.002487 0.04987             \n",
       "            R_50        0.018529 0.13612  -0.28      \n",
       "            LAeq_Min    0.032157 0.17932   0.11 -0.99\n",
       " Residual               0.064758 0.25448             \n",
       "Number of obs: 661, groups:  LocationID, 13\n",
       "\n",
       "Fixed effects:\n",
       "            Estimate Std. Error      df t value Pr(>|t|)   \n",
       "(Intercept)  0.12167    0.02126 4.36752   5.722  0.00352 **\n",
       "R_50         0.07164    0.04771 7.82565   1.502  0.17242   \n",
       "LAeq_Min     0.04077    0.05941 7.79275   0.686  0.51239   \n",
       "---\n",
       "Signif. codes:  0 '***' 0.001 '**' 0.01 '*' 0.05 '.' 0.1 ' ' 1\n",
       "\n",
       "Correlation of Fixed Effects:\n",
       "         (Intr) R_50  \n",
       "R_50     -0.066       \n",
       "LAeq_Min -0.087 -0.936\n",
       "convergence code: 0\n",
       "boundary (singular) fit: see ?isSingular\n"
      ]
     },
     "metadata": {},
     "output_type": "display_data"
    },
    {
     "data": {
      "text/html": [
       "<table>\n",
       "<caption>A matrix: 1 × 2 of type dbl</caption>\n",
       "<thead>\n",
       "\t<tr><th scope=col>R2m</th><th scope=col>R2c</th></tr>\n",
       "</thead>\n",
       "<tbody>\n",
       "\t<tr><td>0.0787795</td><td>0.2884135</td></tr>\n",
       "</tbody>\n",
       "</table>\n"
      ],
      "text/latex": [
       "A matrix: 1 × 2 of type dbl\n",
       "\\begin{tabular}{ll}\n",
       " R2m & R2c\\\\\n",
       "\\hline\n",
       "\t 0.0787795 & 0.2884135\\\\\n",
       "\\end{tabular}\n"
      ],
      "text/markdown": [
       "\n",
       "A matrix: 1 × 2 of type dbl\n",
       "\n",
       "| R2m | R2c |\n",
       "|---|---|\n",
       "| 0.0787795 | 0.2884135 |\n",
       "\n"
      ],
      "text/plain": [
       "     R2m       R2c      \n",
       "[1,] 0.0787795 0.2884135"
      ]
     },
     "metadata": {},
     "output_type": "display_data"
    },
    {
     "data": {
      "text/html": [
       "<table>\n",
       "<caption>A data.frame: 13 × 3</caption>\n",
       "<thead>\n",
       "\t<tr><th></th><th scope=col>(Intercept)</th><th scope=col>R_50</th><th scope=col>LAeq_Min</th></tr>\n",
       "\t<tr><th></th><th scope=col>&lt;dbl&gt;</th><th scope=col>&lt;dbl&gt;</th><th scope=col>&lt;dbl&gt;</th></tr>\n",
       "</thead>\n",
       "<tbody>\n",
       "\t<tr><th scope=row>CamdenTown</th><td> 0.085230727</td><td>-0.15717298</td><td> 0.16060919</td></tr>\n",
       "\t<tr><th scope=row>EustonTap</th><td> 0.005966605</td><td> 0.03037632</td><td>-0.04515420</td></tr>\n",
       "\t<tr><th scope=row>MarchmontGarden</th><td>-0.059707663</td><td>-0.04466504</td><td> 0.09843143</td></tr>\n",
       "\t<tr><th scope=row>MonumentoGaribaldi</th><td>-0.018040181</td><td> 0.03395536</td><td>-0.03493227</td></tr>\n",
       "\t<tr><th scope=row>PancrasLock</th><td>-0.021317879</td><td> 0.19707785</td><td>-0.25519777</td></tr>\n",
       "\t<tr><th scope=row>RegentsParkFields</th><td>-0.014399416</td><td>-0.10717144</td><td> 0.15512594</td></tr>\n",
       "\t<tr><th scope=row>RegentsParkJapan</th><td>-0.015937076</td><td> 0.04502590</td><td>-0.05134364</td></tr>\n",
       "\t<tr><th scope=row>RussellSq</th><td> 0.008316019</td><td> 0.06886286</td><td>-0.09908703</td></tr>\n",
       "\t<tr><th scope=row>SanMarco</th><td> 0.024301232</td><td>-0.15372543</td><td> 0.19423428</td></tr>\n",
       "\t<tr><th scope=row>StPaulsCross</th><td>-0.008075711</td><td> 0.07822686</td><td>-0.10153946</td></tr>\n",
       "\t<tr><th scope=row>StPaulsRow</th><td>-0.030024128</td><td> 0.10329385</td><td>-0.12189912</td></tr>\n",
       "\t<tr><th scope=row>TateModern</th><td> 0.014654287</td><td>-0.20467684</td><td> 0.26974610</td></tr>\n",
       "\t<tr><th scope=row>TorringtonSq</th><td> 0.029033183</td><td> 0.11059274</td><td>-0.16899345</td></tr>\n",
       "</tbody>\n",
       "</table>\n"
      ],
      "text/latex": [
       "A data.frame: 13 × 3\n",
       "\\begin{tabular}{r|lll}\n",
       "  & (Intercept) & R\\_50 & LAeq\\_Min\\\\\n",
       "  & <dbl> & <dbl> & <dbl>\\\\\n",
       "\\hline\n",
       "\tCamdenTown &  0.085230727 & -0.15717298 &  0.16060919\\\\\n",
       "\tEustonTap &  0.005966605 &  0.03037632 & -0.04515420\\\\\n",
       "\tMarchmontGarden & -0.059707663 & -0.04466504 &  0.09843143\\\\\n",
       "\tMonumentoGaribaldi & -0.018040181 &  0.03395536 & -0.03493227\\\\\n",
       "\tPancrasLock & -0.021317879 &  0.19707785 & -0.25519777\\\\\n",
       "\tRegentsParkFields & -0.014399416 & -0.10717144 &  0.15512594\\\\\n",
       "\tRegentsParkJapan & -0.015937076 &  0.04502590 & -0.05134364\\\\\n",
       "\tRussellSq &  0.008316019 &  0.06886286 & -0.09908703\\\\\n",
       "\tSanMarco &  0.024301232 & -0.15372543 &  0.19423428\\\\\n",
       "\tStPaulsCross & -0.008075711 &  0.07822686 & -0.10153946\\\\\n",
       "\tStPaulsRow & -0.030024128 &  0.10329385 & -0.12189912\\\\\n",
       "\tTateModern &  0.014654287 & -0.20467684 &  0.26974610\\\\\n",
       "\tTorringtonSq &  0.029033183 &  0.11059274 & -0.16899345\\\\\n",
       "\\end{tabular}\n"
      ],
      "text/markdown": [
       "\n",
       "A data.frame: 13 × 3\n",
       "\n",
       "| <!--/--> | (Intercept) &lt;dbl&gt; | R_50 &lt;dbl&gt; | LAeq_Min &lt;dbl&gt; |\n",
       "|---|---|---|---|\n",
       "| CamdenTown |  0.085230727 | -0.15717298 |  0.16060919 |\n",
       "| EustonTap |  0.005966605 |  0.03037632 | -0.04515420 |\n",
       "| MarchmontGarden | -0.059707663 | -0.04466504 |  0.09843143 |\n",
       "| MonumentoGaribaldi | -0.018040181 |  0.03395536 | -0.03493227 |\n",
       "| PancrasLock | -0.021317879 |  0.19707785 | -0.25519777 |\n",
       "| RegentsParkFields | -0.014399416 | -0.10717144 |  0.15512594 |\n",
       "| RegentsParkJapan | -0.015937076 |  0.04502590 | -0.05134364 |\n",
       "| RussellSq |  0.008316019 |  0.06886286 | -0.09908703 |\n",
       "| SanMarco |  0.024301232 | -0.15372543 |  0.19423428 |\n",
       "| StPaulsCross | -0.008075711 |  0.07822686 | -0.10153946 |\n",
       "| StPaulsRow | -0.030024128 |  0.10329385 | -0.12189912 |\n",
       "| TateModern |  0.014654287 | -0.20467684 |  0.26974610 |\n",
       "| TorringtonSq |  0.029033183 |  0.11059274 | -0.16899345 |\n",
       "\n"
      ],
      "text/plain": [
       "                   (Intercept)  R_50        LAeq_Min   \n",
       "CamdenTown          0.085230727 -0.15717298  0.16060919\n",
       "EustonTap           0.005966605  0.03037632 -0.04515420\n",
       "MarchmontGarden    -0.059707663 -0.04466504  0.09843143\n",
       "MonumentoGaribaldi -0.018040181  0.03395536 -0.03493227\n",
       "PancrasLock        -0.021317879  0.19707785 -0.25519777\n",
       "RegentsParkFields  -0.014399416 -0.10717144  0.15512594\n",
       "RegentsParkJapan   -0.015937076  0.04502590 -0.05134364\n",
       "RussellSq           0.008316019  0.06886286 -0.09908703\n",
       "SanMarco            0.024301232 -0.15372543  0.19423428\n",
       "StPaulsCross       -0.008075711  0.07822686 -0.10153946\n",
       "StPaulsRow         -0.030024128  0.10329385 -0.12189912\n",
       "TateModern          0.014654287 -0.20467684  0.26974610\n",
       "TorringtonSq        0.029033183  0.11059274 -0.16899345"
      ]
     },
     "metadata": {},
     "output_type": "display_data"
    },
    {
     "data": {
      "text/html": [
       "<span style=white-space:pre-wrap>'Predicted - Actual Correlation: 0.508635  '</span>"
      ],
      "text/latex": [
       "'Predicted - Actual Correlation: 0.508635  '"
      ],
      "text/markdown": [
       "<span style=white-space:pre-wrap>'Predicted - Actual Correlation: 0.508635  '</span>"
      ],
      "text/plain": [
       "[1] \"Predicted - Actual Correlation: 0.508635  \""
      ]
     },
     "metadata": {},
     "output_type": "display_data"
    },
    {
     "data": {
      "text/html": [
       "<span style=white-space:pre-wrap>'Predicted - Actual Variance: 0.020478  '</span>"
      ],
      "text/latex": [
       "'Predicted - Actual Variance: 0.020478  '"
      ],
      "text/markdown": [
       "<span style=white-space:pre-wrap>'Predicted - Actual Variance: 0.020478  '</span>"
      ],
      "text/plain": [
       "[1] \"Predicted - Actual Variance: 0.020478  \""
      ]
     },
     "metadata": {},
     "output_type": "display_data"
    },
    {
     "name": "stdout",
     "output_type": "stream",
     "text": [
      "[1] \"Actual summary:\"\n",
      "    Min.  1st Qu.   Median     Mean  3rd Qu.     Max. \n",
      "-0.75000 -0.07322  0.11872  0.12927  0.32322  0.92678 \n",
      "[1] \"Predicted summary:\"\n",
      "    Min.  1st Qu.   Median     Mean  3rd Qu.     Max. \n",
      "-0.13386  0.01443  0.12026  0.12927  0.21441  0.50657 \n"
     ]
    },
    {
     "name": "stderr",
     "output_type": "stream",
     "text": [
      "`geom_smooth()` using formula 'y ~ x'\n"
     ]
    },
    {
     "data": {
      "image/png": "[encoded data removed]",
      "text/plain": [
       "plot without title"
      ]
     },
     "metadata": {},
     "output_type": "display_data"
    }
   ],
   "source": [
    "Eventful_formula <- as.formula(\"Eventful ~ R_50 + LAeq_Min + (R_50 + LAeq_Min|LocationID)\")\n",
    "Eventful_model <- lmerTest::lmer(Eventful_formula, data = prelockdownData, REML=FALSE)\n",
    "\n",
    "summary(Eventful_model)\n",
    "r.squaredGLMM(Eventful_model)\n",
    "ranef(Eventful_model)$LocationID\n",
    "\n",
    "# Predicting\n",
    "prelockdownData$Eventful_pred <- predict(Eventful_model, newdata = prelockdownData)\n",
    "sprintf(fmt = \"%-10s%-10f\", \"Predicted - Actual Correlation: \", cor(prelockdownData$Eventful, prelockdownData$Eventful_pred))\n",
    "sprintf(fmt = \"%-10s%-10f\", \"Predicted - Actual Variance: \", var(prelockdownData$Eventful, prelockdownData$Eventful_pred))\n",
    "\n",
    "print(\"Actual summary:\")\n",
    "print(summary(prelockdownData$Eventful))\n",
    "print(\"Predicted summary:\")\n",
    "print(summary(prelockdownData$Eventful_pred))\n",
    "ggplot(prelockdownData, aes(x=Eventful, y=Eventful_pred)) + geom_point() +\n",
    "    geom_smooth(method=lm)"
   ]
  },
  {
   "cell_type": "markdown",
   "metadata": {},
   "source": [
    "## `Natural` model"
   ]
  },
  {
   "cell_type": "code",
   "execution_count": 4,
   "metadata": {},
   "outputs": [
    {
     "name": "stderr",
     "output_type": "stream",
     "text": [
      "boundary (singular) fit: see ?isSingular\n"
     ]
    },
    {
     "data": {
      "text/plain": [
       "Linear mixed model fit by maximum likelihood . t-tests use Satterthwaite's\n",
       "  method [lmerModLmerTest]\n",
       "Formula: Natural_formula\n",
       "   Data: prelockdownData\n",
       "\n",
       "     AIC      BIC   logLik deviance df.resid \n",
       "  1703.0   1770.4   -836.5   1673.0      646 \n",
       "\n",
       "Scaled residuals: \n",
       "    Min      1Q  Median      3Q     Max \n",
       "-3.3532 -0.6507 -0.1060  0.7092  2.9182 \n",
       "\n",
       "Random effects:\n",
       " Groups     Name        Variance Std.Dev. Corr             \n",
       " LocationID (Intercept) 0.164505 0.40559                   \n",
       "            LCeq        0.002985 0.05463  -0.75            \n",
       "            S_Min       0.036962 0.19226   0.98 -0.62      \n",
       "            R_Min       0.022126 0.14875  -0.70  0.06 -0.82\n",
       " Residual               0.698814 0.83595                   \n",
       "Number of obs: 661, groups:  LocationID, 13\n",
       "\n",
       "Fixed effects:\n",
       "             Estimate Std. Error        df t value Pr(>|t|)    \n",
       "(Intercept)   2.40301    0.12092   8.77456  19.873 1.34e-08 ***\n",
       "LCeq         -0.26490    0.07112 132.91230  -3.725 0.000288 ***\n",
       "S_Min         0.13239    0.09979   8.26747   1.327 0.220099    \n",
       "R_Min        -0.12855    0.08907   8.32811  -1.443 0.185488    \n",
       "---\n",
       "Signif. codes:  0 '***' 0.001 '**' 0.01 '*' 0.05 '.' 0.1 ' ' 1\n",
       "\n",
       "Correlation of Fixed Effects:\n",
       "      (Intr) LCeq   S_Min \n",
       "LCeq  -0.187              \n",
       "S_Min  0.545 -0.243       \n",
       "R_Min -0.411 -0.415 -0.435\n",
       "convergence code: 0\n",
       "boundary (singular) fit: see ?isSingular\n"
      ]
     },
     "metadata": {},
     "output_type": "display_data"
    },
    {
     "data": {
      "text/html": [
       "<table>\n",
       "<caption>A matrix: 1 × 2 of type dbl</caption>\n",
       "<thead>\n",
       "\t<tr><th scope=col>R2m</th><th scope=col>R2c</th></tr>\n",
       "</thead>\n",
       "<tbody>\n",
       "\t<tr><td>0.09744327</td><td>0.3228579</td></tr>\n",
       "</tbody>\n",
       "</table>\n"
      ],
      "text/latex": [
       "A matrix: 1 × 2 of type dbl\n",
       "\\begin{tabular}{ll}\n",
       " R2m & R2c\\\\\n",
       "\\hline\n",
       "\t 0.09744327 & 0.3228579\\\\\n",
       "\\end{tabular}\n"
      ],
      "text/markdown": [
       "\n",
       "A matrix: 1 × 2 of type dbl\n",
       "\n",
       "| R2m | R2c |\n",
       "|---|---|\n",
       "| 0.09744327 | 0.3228579 |\n",
       "\n"
      ],
      "text/plain": [
       "     R2m        R2c      \n",
       "[1,] 0.09744327 0.3228579"
      ]
     },
     "metadata": {},
     "output_type": "display_data"
    },
    {
     "data": {
      "text/html": [
       "<table>\n",
       "<caption>A data.frame: 13 × 4</caption>\n",
       "<thead>\n",
       "\t<tr><th></th><th scope=col>(Intercept)</th><th scope=col>LCeq</th><th scope=col>S_Min</th><th scope=col>R_Min</th></tr>\n",
       "\t<tr><th></th><th scope=col>&lt;dbl&gt;</th><th scope=col>&lt;dbl&gt;</th><th scope=col>&lt;dbl&gt;</th><th scope=col>&lt;dbl&gt;</th></tr>\n",
       "</thead>\n",
       "<tbody>\n",
       "\t<tr><th scope=row>CamdenTown</th><td>-0.71004844</td><td> 0.070590960</td><td>-0.3324091082</td><td> 0.187061110</td></tr>\n",
       "\t<tr><th scope=row>EustonTap</th><td>-0.39144428</td><td> 0.030940252</td><td>-0.1909116829</td><td> 0.126578123</td></tr>\n",
       "\t<tr><th scope=row>MarchmontGarden</th><td> 0.13387111</td><td> 0.004490539</td><td> 0.0797596313</td><td>-0.087606502</td></tr>\n",
       "\t<tr><th scope=row>MonumentoGaribaldi</th><td> 0.10837383</td><td>-0.017105612</td><td> 0.0446569666</td><td>-0.009933981</td></tr>\n",
       "\t<tr><th scope=row>PancrasLock</th><td> 0.02157491</td><td>-0.012401773</td><td> 0.0002535646</td><td> 0.024475560</td></tr>\n",
       "\t<tr><th scope=row>RegentsParkFields</th><td> 0.43344460</td><td>-0.068363948</td><td> 0.1786554339</td><td>-0.039879520</td></tr>\n",
       "\t<tr><th scope=row>RegentsParkJapan</th><td> 0.50483796</td><td>-0.035916564</td><td> 0.2500420949</td><td>-0.174967196</td></tr>\n",
       "\t<tr><th scope=row>RussellSq</th><td> 0.47640596</td><td>-0.052555327</td><td> 0.2180446029</td><td>-0.110240317</td></tr>\n",
       "\t<tr><th scope=row>SanMarco</th><td>-0.02036493</td><td>-0.017363874</td><td>-0.0281470736</td><td> 0.062375415</td></tr>\n",
       "\t<tr><th scope=row>StPaulsCross</th><td>-0.03743774</td><td> 0.020267845</td><td>-0.0016421838</td><td>-0.038788943</td></tr>\n",
       "\t<tr><th scope=row>StPaulsRow</th><td>-0.53832524</td><td> 0.061425915</td><td>-0.2444259053</td><td> 0.118570447</td></tr>\n",
       "\t<tr><th scope=row>TateModern</th><td> 0.34714644</td><td>-0.029712242</td><td> 0.1671246923</td><td>-0.105569359</td></tr>\n",
       "\t<tr><th scope=row>TorringtonSq</th><td>-0.32803419</td><td> 0.045703829</td><td>-0.1410010327</td><td> 0.047925162</td></tr>\n",
       "</tbody>\n",
       "</table>\n"
      ],
      "text/latex": [
       "A data.frame: 13 × 4\n",
       "\\begin{tabular}{r|llll}\n",
       "  & (Intercept) & LCeq & S\\_Min & R\\_Min\\\\\n",
       "  & <dbl> & <dbl> & <dbl> & <dbl>\\\\\n",
       "\\hline\n",
       "\tCamdenTown & -0.71004844 &  0.070590960 & -0.3324091082 &  0.187061110\\\\\n",
       "\tEustonTap & -0.39144428 &  0.030940252 & -0.1909116829 &  0.126578123\\\\\n",
       "\tMarchmontGarden &  0.13387111 &  0.004490539 &  0.0797596313 & -0.087606502\\\\\n",
       "\tMonumentoGaribaldi &  0.10837383 & -0.017105612 &  0.0446569666 & -0.009933981\\\\\n",
       "\tPancrasLock &  0.02157491 & -0.012401773 &  0.0002535646 &  0.024475560\\\\\n",
       "\tRegentsParkFields &  0.43344460 & -0.068363948 &  0.1786554339 & -0.039879520\\\\\n",
       "\tRegentsParkJapan &  0.50483796 & -0.035916564 &  0.2500420949 & -0.174967196\\\\\n",
       "\tRussellSq &  0.47640596 & -0.052555327 &  0.2180446029 & -0.110240317\\\\\n",
       "\tSanMarco & -0.02036493 & -0.017363874 & -0.0281470736 &  0.062375415\\\\\n",
       "\tStPaulsCross & -0.03743774 &  0.020267845 & -0.0016421838 & -0.038788943\\\\\n",
       "\tStPaulsRow & -0.53832524 &  0.061425915 & -0.2444259053 &  0.118570447\\\\\n",
       "\tTateModern &  0.34714644 & -0.029712242 &  0.1671246923 & -0.105569359\\\\\n",
       "\tTorringtonSq & -0.32803419 &  0.045703829 & -0.1410010327 &  0.047925162\\\\\n",
       "\\end{tabular}\n"
      ],
      "text/markdown": [
       "\n",
       "A data.frame: 13 × 4\n",
       "\n",
       "| <!--/--> | (Intercept) &lt;dbl&gt; | LCeq &lt;dbl&gt; | S_Min &lt;dbl&gt; | R_Min &lt;dbl&gt; |\n",
       "|---|---|---|---|---|\n",
       "| CamdenTown | -0.71004844 |  0.070590960 | -0.3324091082 |  0.187061110 |\n",
       "| EustonTap | -0.39144428 |  0.030940252 | -0.1909116829 |  0.126578123 |\n",
       "| MarchmontGarden |  0.13387111 |  0.004490539 |  0.0797596313 | -0.087606502 |\n",
       "| MonumentoGaribaldi |  0.10837383 | -0.017105612 |  0.0446569666 | -0.009933981 |\n",
       "| PancrasLock |  0.02157491 | -0.012401773 |  0.0002535646 |  0.024475560 |\n",
       "| RegentsParkFields |  0.43344460 | -0.068363948 |  0.1786554339 | -0.039879520 |\n",
       "| RegentsParkJapan |  0.50483796 | -0.035916564 |  0.2500420949 | -0.174967196 |\n",
       "| RussellSq |  0.47640596 | -0.052555327 |  0.2180446029 | -0.110240317 |\n",
       "| SanMarco | -0.02036493 | -0.017363874 | -0.0281470736 |  0.062375415 |\n",
       "| StPaulsCross | -0.03743774 |  0.020267845 | -0.0016421838 | -0.038788943 |\n",
       "| StPaulsRow | -0.53832524 |  0.061425915 | -0.2444259053 |  0.118570447 |\n",
       "| TateModern |  0.34714644 | -0.029712242 |  0.1671246923 | -0.105569359 |\n",
       "| TorringtonSq | -0.32803419 |  0.045703829 | -0.1410010327 |  0.047925162 |\n",
       "\n"
      ],
      "text/plain": [
       "                   (Intercept) LCeq         S_Min         R_Min       \n",
       "CamdenTown         -0.71004844  0.070590960 -0.3324091082  0.187061110\n",
       "EustonTap          -0.39144428  0.030940252 -0.1909116829  0.126578123\n",
       "MarchmontGarden     0.13387111  0.004490539  0.0797596313 -0.087606502\n",
       "MonumentoGaribaldi  0.10837383 -0.017105612  0.0446569666 -0.009933981\n",
       "PancrasLock         0.02157491 -0.012401773  0.0002535646  0.024475560\n",
       "RegentsParkFields   0.43344460 -0.068363948  0.1786554339 -0.039879520\n",
       "RegentsParkJapan    0.50483796 -0.035916564  0.2500420949 -0.174967196\n",
       "RussellSq           0.47640596 -0.052555327  0.2180446029 -0.110240317\n",
       "SanMarco           -0.02036493 -0.017363874 -0.0281470736  0.062375415\n",
       "StPaulsCross       -0.03743774  0.020267845 -0.0016421838 -0.038788943\n",
       "StPaulsRow         -0.53832524  0.061425915 -0.2444259053  0.118570447\n",
       "TateModern          0.34714644 -0.029712242  0.1671246923 -0.105569359\n",
       "TorringtonSq       -0.32803419  0.045703829 -0.1410010327  0.047925162"
      ]
     },
     "metadata": {},
     "output_type": "display_data"
    },
    {
     "data": {
      "text/html": [
       "<span style=white-space:pre-wrap>'Predicted - Actual Correlation: 0.676451  '</span>"
      ],
      "text/latex": [
       "'Predicted - Actual Correlation: 0.676451  '"
      ],
      "text/markdown": [
       "<span style=white-space:pre-wrap>'Predicted - Actual Correlation: 0.676451  '</span>"
      ],
      "text/plain": [
       "[1] \"Predicted - Actual Correlation: 0.676451  \""
      ]
     },
     "metadata": {},
     "output_type": "display_data"
    },
    {
     "data": {
      "text/html": [
       "<span style=white-space:pre-wrap>'Predicted - Actual Variance: 0.564066  '</span>"
      ],
      "text/latex": [
       "'Predicted - Actual Variance: 0.564066  '"
      ],
      "text/markdown": [
       "<span style=white-space:pre-wrap>'Predicted - Actual Variance: 0.564066  '</span>"
      ],
      "text/plain": [
       "[1] \"Predicted - Actual Variance: 0.564066  \""
      ]
     },
     "metadata": {},
     "output_type": "display_data"
    },
    {
     "name": "stdout",
     "output_type": "stream",
     "text": [
      "[1] \"Actual summary:\"\n",
      "   Min. 1st Qu.  Median    Mean 3rd Qu.    Max. \n",
      "  1.000   1.500   2.500   2.516   3.333   5.000 \n",
      "[1] \"Predicted summary:\"\n",
      "   Min. 1st Qu.  Median    Mean 3rd Qu.    Max. \n",
      " 0.7119  1.9707  2.4136  2.5159  3.0758  4.2817 \n"
     ]
    },
    {
     "name": "stderr",
     "output_type": "stream",
     "text": [
      "`geom_smooth()` using formula 'y ~ x'\n"
     ]
    },
    {
     "data": {
      "image/png": "[encoded data removed]",
      "text/plain": [
       "plot without title"
      ]
     },
     "metadata": {},
     "output_type": "display_data"
    }
   ],
   "source": [
    "Natural_formula <- as.formula(\"Natural ~ LCeq + S_Min + R_Min + (LCeq + S_Min + R_Min|LocationID)\")\n",
    "Natural_model <- lmerTest::lmer(Natural_formula, data = prelockdownData, REML=FALSE)\n",
    "\n",
    "summary(Natural_model)\n",
    "r.squaredGLMM(Natural_model)\n",
    "ranef(Natural_model)$LocationID\n",
    "\n",
    "# Predicting\n",
    "prelockdownData$Natural_pred <- predict(Natural_model, newdata = prelockdownData)\n",
    "sprintf(fmt = \"%-10s%-10f\", \"Predicted - Actual Correlation: \", cor(prelockdownData$Natural, prelockdownData$Natural_pred))\n",
    "sprintf(fmt = \"%-10s%-10f\", \"Predicted - Actual Variance: \", var(prelockdownData$Natural, prelockdownData$Natural_pred))\n",
    "\n",
    "print(\"Actual summary:\")\n",
    "print(summary(prelockdownData$Natural))\n",
    "print(\"Predicted summary:\")\n",
    "print(summary(prelockdownData$Natural_pred))\n",
    "ggplot(prelockdownData, aes(x=Natural, y=Natural_pred)) + geom_point() +\n",
    "    geom_smooth(method=lm)"
   ]
  },
  {
   "cell_type": "markdown",
   "metadata": {},
   "source": [
    "# `Traffic` model"
   ]
  },
  {
   "cell_type": "code",
   "execution_count": 5,
   "metadata": {},
   "outputs": [
    {
     "name": "stderr",
     "output_type": "stream",
     "text": [
      "boundary (singular) fit: see ?isSingular\n"
     ]
    },
    {
     "data": {
      "text/plain": [
       "Linear mixed model fit by maximum likelihood . t-tests use Satterthwaite's\n",
       "  method [lmerModLmerTest]\n",
       "Formula: Traffic_formula\n",
       "   Data: prelockdownData\n",
       "\n",
       "     AIC      BIC   logLik deviance df.resid \n",
       "  1722.5   1924.7   -816.2   1632.5      616 \n",
       "\n",
       "Scaled residuals: \n",
       "    Min      1Q  Median      3Q     Max \n",
       "-3.0205 -0.6857 -0.0710  0.6349  3.3630 \n",
       "\n",
       "Random effects:\n",
       " Groups     Name              Variance Std.Dev. Corr                         \n",
       " LocationID (Intercept)       0.400968 0.63322                               \n",
       "            THD_50            0.015783 0.12563  -0.62                        \n",
       "            I_Min             0.012228 0.11058  -0.02  0.27                  \n",
       "            R_5               0.008267 0.09093   0.18 -0.85 -0.12            \n",
       "            LZeq_Max_LZeq_Min 0.018176 0.13482  -0.67 -0.14 -0.40  0.53      \n",
       "            T_90              0.008755 0.09357   0.30  0.39  0.80 -0.49 -0.81\n",
       "            SIL_5_SIL_95      0.010755 0.10371   0.70 -0.56 -0.54  0.09 -0.33\n",
       "            S_10              0.004308 0.06564  -0.62  0.95  0.48 -0.77 -0.17\n",
       " Residual                     0.625713 0.79102                               \n",
       "            \n",
       "            \n",
       "            \n",
       "            \n",
       "            \n",
       "            \n",
       "            \n",
       " -0.26      \n",
       "  0.46 -0.59\n",
       "            \n",
       "Number of obs: 661, groups:  LocationID, 13\n",
       "\n",
       "Fixed effects:\n",
       "                  Estimate Std. Error       df t value Pr(>|t|)    \n",
       "(Intercept)        2.68684    0.18241 10.81643  14.730 1.68e-08 ***\n",
       "THD_50            -0.17964    0.06329 10.73618  -2.839   0.0165 *  \n",
       "I_Min              0.07301    0.04706 11.65343   1.551   0.1475    \n",
       "R_5                0.06778    0.05212  1.56995   1.300   0.3520    \n",
       "LZeq_Max_LZeq_Min -0.06253    0.05819  9.96474  -1.075   0.3079    \n",
       "T_90              -0.06731    0.05144 10.78568  -1.308   0.2179    \n",
       "SIL_5_SIL_95       0.08614    0.06070  6.86045   1.419   0.1997    \n",
       "S_10              -0.03277    0.05736 16.90448  -0.571   0.5753    \n",
       "---\n",
       "Signif. codes:  0 '***' 0.001 '**' 0.01 '*' 0.05 '.' 0.1 ' ' 1\n",
       "\n",
       "Correlation of Fixed Effects:\n",
       "            (Intr) THD_50 I_Min  R_5    LZ_M_L T_90   SIL_5_\n",
       "THD_50      -0.398                                          \n",
       "I_Min       -0.010  0.078                                   \n",
       "R_5          0.068 -0.250 -0.069                            \n",
       "LZq_Mx_LZ_M -0.363  0.042 -0.160  0.117                     \n",
       "T_90         0.160  0.124  0.411 -0.279 -0.216              \n",
       "SIL_5_SIL_9  0.321 -0.141 -0.129 -0.143 -0.276 -0.093       \n",
       "S_10        -0.219 -0.067  0.096 -0.185 -0.050 -0.100 -0.264\n",
       "convergence code: 0\n",
       "boundary (singular) fit: see ?isSingular\n"
      ]
     },
     "metadata": {},
     "output_type": "display_data"
    },
    {
     "data": {
      "text/html": [
       "<table>\n",
       "<caption>A matrix: 1 × 2 of type dbl</caption>\n",
       "<thead>\n",
       "\t<tr><th scope=col>R2m</th><th scope=col>R2c</th></tr>\n",
       "</thead>\n",
       "<tbody>\n",
       "\t<tr><td>0.05053448</td><td>0.4568795</td></tr>\n",
       "</tbody>\n",
       "</table>\n"
      ],
      "text/latex": [
       "A matrix: 1 × 2 of type dbl\n",
       "\\begin{tabular}{ll}\n",
       " R2m & R2c\\\\\n",
       "\\hline\n",
       "\t 0.05053448 & 0.4568795\\\\\n",
       "\\end{tabular}\n"
      ],
      "text/markdown": [
       "\n",
       "A matrix: 1 × 2 of type dbl\n",
       "\n",
       "| R2m | R2c |\n",
       "|---|---|\n",
       "| 0.05053448 | 0.4568795 |\n",
       "\n"
      ],
      "text/plain": [
       "     R2m        R2c      \n",
       "[1,] 0.05053448 0.4568795"
      ]
     },
     "metadata": {},
     "output_type": "display_data"
    },
    {
     "data": {
      "text/html": [
       "<table>\n",
       "<caption>A data.frame: 13 × 8</caption>\n",
       "<thead>\n",
       "\t<tr><th></th><th scope=col>(Intercept)</th><th scope=col>THD_50</th><th scope=col>I_Min</th><th scope=col>R_5</th><th scope=col>LZeq_Max_LZeq_Min</th><th scope=col>T_90</th><th scope=col>SIL_5_SIL_95</th><th scope=col>S_10</th></tr>\n",
       "\t<tr><th></th><th scope=col>&lt;dbl&gt;</th><th scope=col>&lt;dbl&gt;</th><th scope=col>&lt;dbl&gt;</th><th scope=col>&lt;dbl&gt;</th><th scope=col>&lt;dbl&gt;</th><th scope=col>&lt;dbl&gt;</th><th scope=col>&lt;dbl&gt;</th><th scope=col>&lt;dbl&gt;</th></tr>\n",
       "</thead>\n",
       "<tbody>\n",
       "\t<tr><th scope=row>CamdenTown</th><td> 0.91902838</td><td> 0.039398775</td><td> 0.146066400</td><td>-0.0881163176</td><td>-0.29519014</td><td> 0.1989095803</td><td> 0.022866885</td><td> 0.024885522</td></tr>\n",
       "\t<tr><th scope=row>EustonTap</th><td> 1.10381263</td><td>-0.182763652</td><td>-0.001118931</td><td> 0.0729994092</td><td>-0.11655201</td><td> 0.0268006059</td><td> 0.125720313</td><td>-0.090503621</td></tr>\n",
       "\t<tr><th scope=row>MarchmontGarden</th><td>-0.17934846</td><td> 0.120721672</td><td>-0.075560095</td><td>-0.1148141422</td><td>-0.04631775</td><td>-0.0020889729</td><td> 0.030597779</td><td> 0.044219587</td></tr>\n",
       "\t<tr><th scope=row>MonumentoGaribaldi</th><td>-0.73808491</td><td> 0.070228780</td><td> 0.001066830</td><td>-0.0003343765</td><td> 0.12269383</td><td>-0.0437497826</td><td>-0.084425901</td><td> 0.038923350</td></tr>\n",
       "\t<tr><th scope=row>PancrasLock</th><td>-0.32076463</td><td> 0.041615748</td><td> 0.045516576</td><td>-0.0056154771</td><td> 0.02839442</td><td> 0.0089354946</td><td>-0.050296341</td><td> 0.030906255</td></tr>\n",
       "\t<tr><th scope=row>RegentsParkFields</th><td>-0.21021303</td><td>-0.005011628</td><td> 0.034693726</td><td> 0.0425458305</td><td> 0.06445085</td><td> 0.0009085827</td><td>-0.077976863</td><td>-0.003712346</td></tr>\n",
       "\t<tr><th scope=row>RegentsParkJapan</th><td>-0.68265911</td><td> 0.075112250</td><td> 0.113293933</td><td> 0.0114979926</td><td> 0.07793390</td><td> 0.0255899821</td><td>-0.137467528</td><td> 0.056840821</td></tr>\n",
       "\t<tr><th scope=row>RussellSq</th><td> 0.25281181</td><td>-0.153447843</td><td>-0.190894271</td><td> 0.0903479297</td><td> 0.12230365</td><td>-0.1499291672</td><td> 0.113160316</td><td>-0.099657789</td></tr>\n",
       "\t<tr><th scope=row>SanMarco</th><td>-0.97184361</td><td> 0.147917928</td><td>-0.007133939</td><td>-0.0528085960</td><td> 0.11688970</td><td>-0.0340011215</td><td>-0.108932313</td><td> 0.072410475</td></tr>\n",
       "\t<tr><th scope=row>StPaulsCross</th><td> 0.03113912</td><td>-0.129621205</td><td>-0.047166119</td><td> 0.1096483453</td><td> 0.11603942</td><td>-0.0867709186</td><td> 0.026416810</td><td>-0.061771060</td></tr>\n",
       "\t<tr><th scope=row>StPaulsRow</th><td>-0.07210112</td><td> 0.076572910</td><td> 0.015243814</td><td>-0.0662496261</td><td>-0.05697301</td><td> 0.0364867584</td><td>-0.004473402</td><td> 0.038127771</td></tr>\n",
       "\t<tr><th scope=row>TateModern</th><td> 0.08222385</td><td>-0.006682792</td><td>-0.032451569</td><td>-0.0134367934</td><td>-0.01484884</td><td>-0.0156439265</td><td> 0.043987491</td><td>-0.004001300</td></tr>\n",
       "\t<tr><th scope=row>TorringtonSq</th><td> 0.78599909</td><td>-0.094040943</td><td>-0.001556356</td><td> 0.0143358218</td><td>-0.11882402</td><td> 0.0345528852</td><td> 0.100822754</td><td>-0.046667666</td></tr>\n",
       "</tbody>\n",
       "</table>\n"
      ],
      "text/latex": [
       "A data.frame: 13 × 8\n",
       "\\begin{tabular}{r|llllllll}\n",
       "  & (Intercept) & THD\\_50 & I\\_Min & R\\_5 & LZeq\\_Max\\_LZeq\\_Min & T\\_90 & SIL\\_5\\_SIL\\_95 & S\\_10\\\\\n",
       "  & <dbl> & <dbl> & <dbl> & <dbl> & <dbl> & <dbl> & <dbl> & <dbl>\\\\\n",
       "\\hline\n",
       "\tCamdenTown &  0.91902838 &  0.039398775 &  0.146066400 & -0.0881163176 & -0.29519014 &  0.1989095803 &  0.022866885 &  0.024885522\\\\\n",
       "\tEustonTap &  1.10381263 & -0.182763652 & -0.001118931 &  0.0729994092 & -0.11655201 &  0.0268006059 &  0.125720313 & -0.090503621\\\\\n",
       "\tMarchmontGarden & -0.17934846 &  0.120721672 & -0.075560095 & -0.1148141422 & -0.04631775 & -0.0020889729 &  0.030597779 &  0.044219587\\\\\n",
       "\tMonumentoGaribaldi & -0.73808491 &  0.070228780 &  0.001066830 & -0.0003343765 &  0.12269383 & -0.0437497826 & -0.084425901 &  0.038923350\\\\\n",
       "\tPancrasLock & -0.32076463 &  0.041615748 &  0.045516576 & -0.0056154771 &  0.02839442 &  0.0089354946 & -0.050296341 &  0.030906255\\\\\n",
       "\tRegentsParkFields & -0.21021303 & -0.005011628 &  0.034693726 &  0.0425458305 &  0.06445085 &  0.0009085827 & -0.077976863 & -0.003712346\\\\\n",
       "\tRegentsParkJapan & -0.68265911 &  0.075112250 &  0.113293933 &  0.0114979926 &  0.07793390 &  0.0255899821 & -0.137467528 &  0.056840821\\\\\n",
       "\tRussellSq &  0.25281181 & -0.153447843 & -0.190894271 &  0.0903479297 &  0.12230365 & -0.1499291672 &  0.113160316 & -0.099657789\\\\\n",
       "\tSanMarco & -0.97184361 &  0.147917928 & -0.007133939 & -0.0528085960 &  0.11688970 & -0.0340011215 & -0.108932313 &  0.072410475\\\\\n",
       "\tStPaulsCross &  0.03113912 & -0.129621205 & -0.047166119 &  0.1096483453 &  0.11603942 & -0.0867709186 &  0.026416810 & -0.061771060\\\\\n",
       "\tStPaulsRow & -0.07210112 &  0.076572910 &  0.015243814 & -0.0662496261 & -0.05697301 &  0.0364867584 & -0.004473402 &  0.038127771\\\\\n",
       "\tTateModern &  0.08222385 & -0.006682792 & -0.032451569 & -0.0134367934 & -0.01484884 & -0.0156439265 &  0.043987491 & -0.004001300\\\\\n",
       "\tTorringtonSq &  0.78599909 & -0.094040943 & -0.001556356 &  0.0143358218 & -0.11882402 &  0.0345528852 &  0.100822754 & -0.046667666\\\\\n",
       "\\end{tabular}\n"
      ],
      "text/markdown": [
       "\n",
       "A data.frame: 13 × 8\n",
       "\n",
       "| <!--/--> | (Intercept) &lt;dbl&gt; | THD_50 &lt;dbl&gt; | I_Min &lt;dbl&gt; | R_5 &lt;dbl&gt; | LZeq_Max_LZeq_Min &lt;dbl&gt; | T_90 &lt;dbl&gt; | SIL_5_SIL_95 &lt;dbl&gt; | S_10 &lt;dbl&gt; |\n",
       "|---|---|---|---|---|---|---|---|---|\n",
       "| CamdenTown |  0.91902838 |  0.039398775 |  0.146066400 | -0.0881163176 | -0.29519014 |  0.1989095803 |  0.022866885 |  0.024885522 |\n",
       "| EustonTap |  1.10381263 | -0.182763652 | -0.001118931 |  0.0729994092 | -0.11655201 |  0.0268006059 |  0.125720313 | -0.090503621 |\n",
       "| MarchmontGarden | -0.17934846 |  0.120721672 | -0.075560095 | -0.1148141422 | -0.04631775 | -0.0020889729 |  0.030597779 |  0.044219587 |\n",
       "| MonumentoGaribaldi | -0.73808491 |  0.070228780 |  0.001066830 | -0.0003343765 |  0.12269383 | -0.0437497826 | -0.084425901 |  0.038923350 |\n",
       "| PancrasLock | -0.32076463 |  0.041615748 |  0.045516576 | -0.0056154771 |  0.02839442 |  0.0089354946 | -0.050296341 |  0.030906255 |\n",
       "| RegentsParkFields | -0.21021303 | -0.005011628 |  0.034693726 |  0.0425458305 |  0.06445085 |  0.0009085827 | -0.077976863 | -0.003712346 |\n",
       "| RegentsParkJapan | -0.68265911 |  0.075112250 |  0.113293933 |  0.0114979926 |  0.07793390 |  0.0255899821 | -0.137467528 |  0.056840821 |\n",
       "| RussellSq |  0.25281181 | -0.153447843 | -0.190894271 |  0.0903479297 |  0.12230365 | -0.1499291672 |  0.113160316 | -0.099657789 |\n",
       "| SanMarco | -0.97184361 |  0.147917928 | -0.007133939 | -0.0528085960 |  0.11688970 | -0.0340011215 | -0.108932313 |  0.072410475 |\n",
       "| StPaulsCross |  0.03113912 | -0.129621205 | -0.047166119 |  0.1096483453 |  0.11603942 | -0.0867709186 |  0.026416810 | -0.061771060 |\n",
       "| StPaulsRow | -0.07210112 |  0.076572910 |  0.015243814 | -0.0662496261 | -0.05697301 |  0.0364867584 | -0.004473402 |  0.038127771 |\n",
       "| TateModern |  0.08222385 | -0.006682792 | -0.032451569 | -0.0134367934 | -0.01484884 | -0.0156439265 |  0.043987491 | -0.004001300 |\n",
       "| TorringtonSq |  0.78599909 | -0.094040943 | -0.001556356 |  0.0143358218 | -0.11882402 |  0.0345528852 |  0.100822754 | -0.046667666 |\n",
       "\n"
      ],
      "text/plain": [
       "                   (Intercept) THD_50       I_Min        R_5          \n",
       "CamdenTown          0.91902838  0.039398775  0.146066400 -0.0881163176\n",
       "EustonTap           1.10381263 -0.182763652 -0.001118931  0.0729994092\n",
       "MarchmontGarden    -0.17934846  0.120721672 -0.075560095 -0.1148141422\n",
       "MonumentoGaribaldi -0.73808491  0.070228780  0.001066830 -0.0003343765\n",
       "PancrasLock        -0.32076463  0.041615748  0.045516576 -0.0056154771\n",
       "RegentsParkFields  -0.21021303 -0.005011628  0.034693726  0.0425458305\n",
       "RegentsParkJapan   -0.68265911  0.075112250  0.113293933  0.0114979926\n",
       "RussellSq           0.25281181 -0.153447843 -0.190894271  0.0903479297\n",
       "SanMarco           -0.97184361  0.147917928 -0.007133939 -0.0528085960\n",
       "StPaulsCross        0.03113912 -0.129621205 -0.047166119  0.1096483453\n",
       "StPaulsRow         -0.07210112  0.076572910  0.015243814 -0.0662496261\n",
       "TateModern          0.08222385 -0.006682792 -0.032451569 -0.0134367934\n",
       "TorringtonSq        0.78599909 -0.094040943 -0.001556356  0.0143358218\n",
       "                   LZeq_Max_LZeq_Min T_90          SIL_5_SIL_95 S_10        \n",
       "CamdenTown         -0.29519014        0.1989095803  0.022866885  0.024885522\n",
       "EustonTap          -0.11655201        0.0268006059  0.125720313 -0.090503621\n",
       "MarchmontGarden    -0.04631775       -0.0020889729  0.030597779  0.044219587\n",
       "MonumentoGaribaldi  0.12269383       -0.0437497826 -0.084425901  0.038923350\n",
       "PancrasLock         0.02839442        0.0089354946 -0.050296341  0.030906255\n",
       "RegentsParkFields   0.06445085        0.0009085827 -0.077976863 -0.003712346\n",
       "RegentsParkJapan    0.07793390        0.0255899821 -0.137467528  0.056840821\n",
       "RussellSq           0.12230365       -0.1499291672  0.113160316 -0.099657789\n",
       "SanMarco            0.11688970       -0.0340011215 -0.108932313  0.072410475\n",
       "StPaulsCross        0.11603942       -0.0867709186  0.026416810 -0.061771060\n",
       "StPaulsRow         -0.05697301        0.0364867584 -0.004473402  0.038127771\n",
       "TateModern         -0.01484884       -0.0156439265  0.043987491 -0.004001300\n",
       "TorringtonSq       -0.11882402        0.0345528852  0.100822754 -0.046667666"
      ]
     },
     "metadata": {},
     "output_type": "display_data"
    },
    {
     "data": {
      "text/html": [
       "<span style=white-space:pre-wrap>'Predicted - Actual Correlation: 0.659057  '</span>"
      ],
      "text/latex": [
       "'Predicted - Actual Correlation: 0.659057  '"
      ],
      "text/markdown": [
       "<span style=white-space:pre-wrap>'Predicted - Actual Correlation: 0.659057  '</span>"
      ],
      "text/plain": [
       "[1] \"Predicted - Actual Correlation: 0.659057  \""
      ]
     },
     "metadata": {},
     "output_type": "display_data"
    },
    {
     "data": {
      "text/html": [
       "<span style=white-space:pre-wrap>'Predicted - Actual Variance: 0.434453  '</span>"
      ],
      "text/latex": [
       "'Predicted - Actual Variance: 0.434453  '"
      ],
      "text/markdown": [
       "<span style=white-space:pre-wrap>'Predicted - Actual Variance: 0.434453  '</span>"
      ],
      "text/plain": [
       "[1] \"Predicted - Actual Variance: 0.434453  \""
      ]
     },
     "metadata": {},
     "output_type": "display_data"
    },
    {
     "name": "stdout",
     "output_type": "stream",
     "text": [
      "[1] \"Actual summary:\"\n",
      "   Min. 1st Qu.  Median    Mean 3rd Qu.    Max. \n",
      "  1.000   2.000   3.000   2.715   3.500   5.000 \n",
      "[1] \"Predicted summary:\"\n",
      "   Min. 1st Qu.  Median    Mean 3rd Qu.    Max. \n",
      "  1.135   2.375   2.621   2.715   3.000   5.047 \n"
     ]
    },
    {
     "name": "stderr",
     "output_type": "stream",
     "text": [
      "`geom_smooth()` using formula 'y ~ x'\n"
     ]
    },
    {
     "data": {
      "image/png": "[encoded data removed]",
      "text/plain": [
       "plot without title"
      ]
     },
     "metadata": {},
     "output_type": "display_data"
    }
   ],
   "source": [
    "Traffic_formula <- as.formula(\"Traffic ~ THD_50 + I_Min + R_5 + LZeq_Max_LZeq_Min + T_90 + SIL_5_SIL_95 + S_10 + (THD_50 + I_Min + R_5 + LZeq_Max_LZeq_Min + T_90 + SIL_5_SIL_95 + S_10 |LocationID)\")\n",
    "Traffic_model <- lmerTest::lmer(Traffic_formula, data = prelockdownData, REML=FALSE)\n",
    "\n",
    "summary(Traffic_model)\n",
    "r.squaredGLMM(Traffic_model)\n",
    "ranef(Traffic_model)$LocationID\n",
    "\n",
    "# Predicting\n",
    "prelockdownData$Traffic_pred <- predict(Traffic_model, newdata = prelockdownData)\n",
    "sprintf(fmt = \"%-10s%-10f\", \"Predicted - Actual Correlation: \", cor(prelockdownData$Traffic, prelockdownData$Traffic_pred))\n",
    "sprintf(fmt = \"%-10s%-10f\", \"Predicted - Actual Variance: \", var(prelockdownData$Traffic, prelockdownData$Traffic_pred))\n",
    "\n",
    "print(\"Actual summary:\")\n",
    "print(summary(prelockdownData$Traffic))\n",
    "print(\"Predicted summary:\")\n",
    "print(summary(prelockdownData$Traffic_pred))\n",
    "ggplot(prelockdownData, aes(x=Traffic, y=Traffic_pred)) + geom_point() +\n",
    "    geom_smooth(method=lm)"
   ]
  },
  {
   "cell_type": "markdown",
   "metadata": {},
   "source": [
    "# `Human` model"
   ]
  },
  {
   "cell_type": "code",
   "execution_count": 6,
   "metadata": {},
   "outputs": [
    {
     "name": "stderr",
     "output_type": "stream",
     "text": [
      "boundary (singular) fit: see ?isSingular\n"
     ]
    },
    {
     "data": {
      "text/plain": [
       "Linear mixed model fit by maximum likelihood . t-tests use Satterthwaite's\n",
       "  method [lmerModLmerTest]\n",
       "Formula: Human_formula\n",
       "   Data: prelockdownData\n",
       "\n",
       "     AIC      BIC   logLik deviance df.resid \n",
       "  1609.5   1960.0   -726.7   1453.5      583 \n",
       "\n",
       "Scaled residuals: \n",
       "    Min      1Q  Median      3Q     Max \n",
       "-2.7839 -0.6143  0.0044  0.7265  3.1967 \n",
       "\n",
       "Random effects:\n",
       " Groups     Name            Variance Std.Dev. Corr                         \n",
       " LocationID (Intercept)     0.10712  0.3273                                \n",
       "            FS_Min          0.02427  0.1558   -0.28                        \n",
       "            I_10_I_90       0.03461  0.1860   -0.66  0.17                  \n",
       "            N_5             0.15008  0.3874   -0.60 -0.02  0.01            \n",
       "            T_5             0.01515  0.1231    0.03 -0.32 -0.11 -0.36      \n",
       "            R_5             0.03043  0.1744    0.77 -0.65 -0.47 -0.65  0.50\n",
       "            FS              0.01715  0.1310   -0.28  0.23 -0.45  0.82 -0.32\n",
       "            I_Max_I_Min     0.02950  0.1717    0.02  0.16 -0.43  0.65 -0.40\n",
       "            SIL_Max_SIL_Min 0.04207  0.2051    0.25 -0.70  0.21 -0.51  0.36\n",
       "            THD_10_THD_90   0.01220  0.1105    0.08  0.01  0.58 -0.20 -0.61\n",
       "            S_5             0.01769  0.1330    0.64  0.27 -0.01 -0.73 -0.35\n",
       " Residual                   0.46606  0.6827                                \n",
       "                              \n",
       "                              \n",
       "                              \n",
       "                              \n",
       "                              \n",
       "                              \n",
       "                              \n",
       " -0.51                        \n",
       " -0.43  0.75                  \n",
       "  0.71 -0.74 -0.79            \n",
       " -0.13 -0.51 -0.14  0.24      \n",
       "  0.29 -0.55 -0.25  0.16  0.61\n",
       "                              \n",
       "Number of obs: 661, groups:  LocationID, 13\n",
       "\n",
       "Fixed effects:\n",
       "                  Estimate Std. Error         df t value Pr(>|t|)    \n",
       "(Intercept)      3.1331988  0.1018473  9.0161174  30.764 1.93e-10 ***\n",
       "FS_Min           0.2530706  0.0721244  4.3523952   3.509   0.0215 *  \n",
       "I_10_I_90       -0.0523014  0.0715428 14.3345162  -0.731   0.4765    \n",
       "N_5             -0.0429575  0.1404956  7.5606814  -0.306   0.7680    \n",
       "T_5              0.0689925  0.0566020  2.3211001   1.219   0.3322    \n",
       "R_5             -0.0461817  0.0664900  5.0232800  -0.695   0.5181    \n",
       "FS              -0.0813169  0.0639088 11.3719291  -1.272   0.2286    \n",
       "I_Max_I_Min     -0.0380875  0.0669847 11.3271476  -0.569   0.5807    \n",
       "SIL_Max_SIL_Min -0.0029700  0.0791891 10.0830714  -0.038   0.9708    \n",
       "THD_10_THD_90   -0.0109629  0.0497107  7.1324864  -0.221   0.8316    \n",
       "S_5             -0.0009688  0.0794621  9.1283948  -0.012   0.9905    \n",
       "---\n",
       "Signif. codes:  0 '***' 0.001 '**' 0.01 '*' 0.05 '.' 0.1 ' ' 1\n",
       "\n",
       "Correlation of Fixed Effects:\n",
       "            (Intr) FS_Min I_10_I N_5    T_5    R_5    FS     I_M_I_ SIL_M_\n",
       "FS_Min      -0.171                                                        \n",
       "I_10_I_90   -0.426  0.009                                                 \n",
       "N_5         -0.458 -0.121  0.121                                          \n",
       "T_5         -0.003 -0.250 -0.029 -0.300                                   \n",
       "R_5          0.553 -0.365 -0.346 -0.564  0.301                            \n",
       "FS          -0.194 -0.225 -0.295  0.438 -0.137 -0.300                     \n",
       "I_Max_I_Min -0.018  0.050 -0.434  0.384 -0.164 -0.269  0.402              \n",
       "SIL_M_SIL_M  0.183 -0.203  0.083 -0.376  0.081  0.442 -0.542 -0.595       \n",
       "THD_10_THD_  0.085  0.044  0.216 -0.128 -0.388 -0.081 -0.163 -0.076  0.135\n",
       "S_5          0.340  0.213 -0.115 -0.637 -0.204  0.279 -0.277 -0.056  0.122\n",
       "            THD_10\n",
       "FS_Min            \n",
       "I_10_I_90         \n",
       "N_5               \n",
       "T_5               \n",
       "R_5               \n",
       "FS                \n",
       "I_Max_I_Min       \n",
       "SIL_M_SIL_M       \n",
       "THD_10_THD_       \n",
       "S_5          0.308\n",
       "convergence code: 0\n",
       "boundary (singular) fit: see ?isSingular\n"
      ]
     },
     "metadata": {},
     "output_type": "display_data"
    },
    {
     "data": {
      "text/html": [
       "<table>\n",
       "<caption>A matrix: 1 × 2 of type dbl</caption>\n",
       "<thead>\n",
       "\t<tr><th scope=col>R2m</th><th scope=col>R2c</th></tr>\n",
       "</thead>\n",
       "<tbody>\n",
       "\t<tr><td>0.07558822</td><td>0.4172531</td></tr>\n",
       "</tbody>\n",
       "</table>\n"
      ],
      "text/latex": [
       "A matrix: 1 × 2 of type dbl\n",
       "\\begin{tabular}{ll}\n",
       " R2m & R2c\\\\\n",
       "\\hline\n",
       "\t 0.07558822 & 0.4172531\\\\\n",
       "\\end{tabular}\n"
      ],
      "text/markdown": [
       "\n",
       "A matrix: 1 × 2 of type dbl\n",
       "\n",
       "| R2m | R2c |\n",
       "|---|---|\n",
       "| 0.07558822 | 0.4172531 |\n",
       "\n"
      ],
      "text/plain": [
       "     R2m        R2c      \n",
       "[1,] 0.07558822 0.4172531"
      ]
     },
     "metadata": {},
     "output_type": "display_data"
    },
    {
     "data": {
      "text/html": [
       "<table>\n",
       "<caption>A data.frame: 13 × 11</caption>\n",
       "<thead>\n",
       "\t<tr><th></th><th scope=col>(Intercept)</th><th scope=col>FS_Min</th><th scope=col>I_10_I_90</th><th scope=col>N_5</th><th scope=col>T_5</th><th scope=col>R_5</th><th scope=col>FS</th><th scope=col>I_Max_I_Min</th><th scope=col>SIL_Max_SIL_Min</th><th scope=col>THD_10_THD_90</th><th scope=col>S_5</th></tr>\n",
       "\t<tr><th></th><th scope=col>&lt;dbl&gt;</th><th scope=col>&lt;dbl&gt;</th><th scope=col>&lt;dbl&gt;</th><th scope=col>&lt;dbl&gt;</th><th scope=col>&lt;dbl&gt;</th><th scope=col>&lt;dbl&gt;</th><th scope=col>&lt;dbl&gt;</th><th scope=col>&lt;dbl&gt;</th><th scope=col>&lt;dbl&gt;</th><th scope=col>&lt;dbl&gt;</th><th scope=col>&lt;dbl&gt;</th></tr>\n",
       "</thead>\n",
       "<tbody>\n",
       "\t<tr><th scope=row>CamdenTown</th><td> 0.19378845</td><td>-0.0483678431</td><td>-0.125384795</td><td>-0.19708156</td><td> 0.0703176805</td><td> 0.14300930</td><td>-0.01704550</td><td>-0.06536135</td><td> 0.08484730</td><td>-0.06545180</td><td> 0.01226140</td></tr>\n",
       "\t<tr><th scope=row>EustonTap</th><td>-0.16155383</td><td> 0.1549856715</td><td> 0.220447941</td><td>-0.37298118</td><td> 0.0819852136</td><td>-0.07542360</td><td>-0.14506426</td><td>-0.10952226</td><td>-0.02924549</td><td> 0.04592843</td><td> 0.06750983</td></tr>\n",
       "\t<tr><th scope=row>MarchmontGarden</th><td>-0.21403520</td><td> 0.2160513650</td><td>-0.097392985</td><td> 0.47381235</td><td>-0.0828264948</td><td>-0.25960176</td><td> 0.22573508</td><td> 0.27512692</td><td>-0.42051404</td><td>-0.08211510</td><td>-0.07729962</td></tr>\n",
       "\t<tr><th scope=row>MonumentoGaribaldi</th><td> 0.17972876</td><td>-0.1902731880</td><td>-0.079396794</td><td>-0.29398991</td><td> 0.1728653058</td><td> 0.25629642</td><td>-0.09809614</td><td>-0.17187145</td><td> 0.27260881</td><td>-0.07912349</td><td>-0.04184254</td></tr>\n",
       "\t<tr><th scope=row>PancrasLock</th><td>-0.57729537</td><td> 0.0571821549</td><td> 0.127496865</td><td> 0.58605755</td><td>-0.0266921608</td><td>-0.24010165</td><td> 0.14548212</td><td> 0.04276944</td><td>-0.12641819</td><td>-0.06106308</td><td>-0.19690494</td></tr>\n",
       "\t<tr><th scope=row>RegentsParkFields</th><td>-0.29204834</td><td> 0.1978416829</td><td> 0.273736421</td><td>-0.19822548</td><td>-0.0689557366</td><td>-0.15655167</td><td>-0.09154730</td><td>-0.18504576</td><td> 0.01165258</td><td> 0.09852266</td><td> 0.09774438</td></tr>\n",
       "\t<tr><th scope=row>RegentsParkJapan</th><td>-0.31520574</td><td>-0.1312753122</td><td> 0.182961576</td><td> 0.22625086</td><td> 0.0110776822</td><td>-0.03076507</td><td>-0.03346932</td><td>-0.10793625</td><td> 0.17780128</td><td> 0.03544426</td><td>-0.11036823</td></tr>\n",
       "\t<tr><th scope=row>RussellSq</th><td>-0.02568726</td><td>-0.1082837586</td><td>-0.001187759</td><td>-0.06215828</td><td> 0.1223642824</td><td> 0.09778495</td><td>-0.04344470</td><td>-0.07215921</td><td> 0.12224003</td><td>-0.05742682</td><td>-0.07669915</td></tr>\n",
       "\t<tr><th scope=row>SanMarco</th><td> 0.09573132</td><td>-0.0007064427</td><td>-0.272437150</td><td> 0.36167556</td><td> 0.0003748802</td><td>-0.01653707</td><td> 0.19908596</td><td> 0.23536408</td><td>-0.22034104</td><td>-0.13626878</td><td>-0.10280702</td></tr>\n",
       "\t<tr><th scope=row>StPaulsCross</th><td> 0.21529522</td><td>-0.0533459905</td><td>-0.048962698</td><td>-0.02743854</td><td>-0.0918942242</td><td> 0.05332030</td><td>-0.01060367</td><td> 0.02960283</td><td> 0.04934419</td><td> 0.07318728</td><td> 0.08167098</td></tr>\n",
       "\t<tr><th scope=row>StPaulsRow</th><td> 0.27746896</td><td>-0.0353193327</td><td>-0.116190090</td><td>-0.10964144</td><td>-0.0402428147</td><td> 0.09038877</td><td>-0.00257461</td><td> 0.03355749</td><td> 0.02200673</td><td> 0.02063009</td><td> 0.07555775</td></tr>\n",
       "\t<tr><th scope=row>TateModern</th><td> 0.58774645</td><td> 0.0435862637</td><td>-0.192447941</td><td>-0.57857044</td><td>-0.0155888274</td><td> 0.20069913</td><td>-0.08521857</td><td>-0.03630603</td><td> 0.03964700</td><td> 0.02803712</td><td> 0.22470379</td></tr>\n",
       "\t<tr><th scope=row>TorringtonSq</th><td> 0.03606658</td><td>-0.1020752703</td><td> 0.128757408</td><td> 0.19229050</td><td>-0.1327847862</td><td>-0.06251806</td><td>-0.04323908</td><td> 0.13178154</td><td> 0.01637084</td><td> 0.17969925</td><td> 0.04647337</td></tr>\n",
       "</tbody>\n",
       "</table>\n"
      ],
      "text/latex": [
       "A data.frame: 13 × 11\n",
       "\\begin{tabular}{r|lllllllllll}\n",
       "  & (Intercept) & FS\\_Min & I\\_10\\_I\\_90 & N\\_5 & T\\_5 & R\\_5 & FS & I\\_Max\\_I\\_Min & SIL\\_Max\\_SIL\\_Min & THD\\_10\\_THD\\_90 & S\\_5\\\\\n",
       "  & <dbl> & <dbl> & <dbl> & <dbl> & <dbl> & <dbl> & <dbl> & <dbl> & <dbl> & <dbl> & <dbl>\\\\\n",
       "\\hline\n",
       "\tCamdenTown &  0.19378845 & -0.0483678431 & -0.125384795 & -0.19708156 &  0.0703176805 &  0.14300930 & -0.01704550 & -0.06536135 &  0.08484730 & -0.06545180 &  0.01226140\\\\\n",
       "\tEustonTap & -0.16155383 &  0.1549856715 &  0.220447941 & -0.37298118 &  0.0819852136 & -0.07542360 & -0.14506426 & -0.10952226 & -0.02924549 &  0.04592843 &  0.06750983\\\\\n",
       "\tMarchmontGarden & -0.21403520 &  0.2160513650 & -0.097392985 &  0.47381235 & -0.0828264948 & -0.25960176 &  0.22573508 &  0.27512692 & -0.42051404 & -0.08211510 & -0.07729962\\\\\n",
       "\tMonumentoGaribaldi &  0.17972876 & -0.1902731880 & -0.079396794 & -0.29398991 &  0.1728653058 &  0.25629642 & -0.09809614 & -0.17187145 &  0.27260881 & -0.07912349 & -0.04184254\\\\\n",
       "\tPancrasLock & -0.57729537 &  0.0571821549 &  0.127496865 &  0.58605755 & -0.0266921608 & -0.24010165 &  0.14548212 &  0.04276944 & -0.12641819 & -0.06106308 & -0.19690494\\\\\n",
       "\tRegentsParkFields & -0.29204834 &  0.1978416829 &  0.273736421 & -0.19822548 & -0.0689557366 & -0.15655167 & -0.09154730 & -0.18504576 &  0.01165258 &  0.09852266 &  0.09774438\\\\\n",
       "\tRegentsParkJapan & -0.31520574 & -0.1312753122 &  0.182961576 &  0.22625086 &  0.0110776822 & -0.03076507 & -0.03346932 & -0.10793625 &  0.17780128 &  0.03544426 & -0.11036823\\\\\n",
       "\tRussellSq & -0.02568726 & -0.1082837586 & -0.001187759 & -0.06215828 &  0.1223642824 &  0.09778495 & -0.04344470 & -0.07215921 &  0.12224003 & -0.05742682 & -0.07669915\\\\\n",
       "\tSanMarco &  0.09573132 & -0.0007064427 & -0.272437150 &  0.36167556 &  0.0003748802 & -0.01653707 &  0.19908596 &  0.23536408 & -0.22034104 & -0.13626878 & -0.10280702\\\\\n",
       "\tStPaulsCross &  0.21529522 & -0.0533459905 & -0.048962698 & -0.02743854 & -0.0918942242 &  0.05332030 & -0.01060367 &  0.02960283 &  0.04934419 &  0.07318728 &  0.08167098\\\\\n",
       "\tStPaulsRow &  0.27746896 & -0.0353193327 & -0.116190090 & -0.10964144 & -0.0402428147 &  0.09038877 & -0.00257461 &  0.03355749 &  0.02200673 &  0.02063009 &  0.07555775\\\\\n",
       "\tTateModern &  0.58774645 &  0.0435862637 & -0.192447941 & -0.57857044 & -0.0155888274 &  0.20069913 & -0.08521857 & -0.03630603 &  0.03964700 &  0.02803712 &  0.22470379\\\\\n",
       "\tTorringtonSq &  0.03606658 & -0.1020752703 &  0.128757408 &  0.19229050 & -0.1327847862 & -0.06251806 & -0.04323908 &  0.13178154 &  0.01637084 &  0.17969925 &  0.04647337\\\\\n",
       "\\end{tabular}\n"
      ],
      "text/markdown": [
       "\n",
       "A data.frame: 13 × 11\n",
       "\n",
       "| <!--/--> | (Intercept) &lt;dbl&gt; | FS_Min &lt;dbl&gt; | I_10_I_90 &lt;dbl&gt; | N_5 &lt;dbl&gt; | T_5 &lt;dbl&gt; | R_5 &lt;dbl&gt; | FS &lt;dbl&gt; | I_Max_I_Min &lt;dbl&gt; | SIL_Max_SIL_Min &lt;dbl&gt; | THD_10_THD_90 &lt;dbl&gt; | S_5 &lt;dbl&gt; |\n",
       "|---|---|---|---|---|---|---|---|---|---|---|---|\n",
       "| CamdenTown |  0.19378845 | -0.0483678431 | -0.125384795 | -0.19708156 |  0.0703176805 |  0.14300930 | -0.01704550 | -0.06536135 |  0.08484730 | -0.06545180 |  0.01226140 |\n",
       "| EustonTap | -0.16155383 |  0.1549856715 |  0.220447941 | -0.37298118 |  0.0819852136 | -0.07542360 | -0.14506426 | -0.10952226 | -0.02924549 |  0.04592843 |  0.06750983 |\n",
       "| MarchmontGarden | -0.21403520 |  0.2160513650 | -0.097392985 |  0.47381235 | -0.0828264948 | -0.25960176 |  0.22573508 |  0.27512692 | -0.42051404 | -0.08211510 | -0.07729962 |\n",
       "| MonumentoGaribaldi |  0.17972876 | -0.1902731880 | -0.079396794 | -0.29398991 |  0.1728653058 |  0.25629642 | -0.09809614 | -0.17187145 |  0.27260881 | -0.07912349 | -0.04184254 |\n",
       "| PancrasLock | -0.57729537 |  0.0571821549 |  0.127496865 |  0.58605755 | -0.0266921608 | -0.24010165 |  0.14548212 |  0.04276944 | -0.12641819 | -0.06106308 | -0.19690494 |\n",
       "| RegentsParkFields | -0.29204834 |  0.1978416829 |  0.273736421 | -0.19822548 | -0.0689557366 | -0.15655167 | -0.09154730 | -0.18504576 |  0.01165258 |  0.09852266 |  0.09774438 |\n",
       "| RegentsParkJapan | -0.31520574 | -0.1312753122 |  0.182961576 |  0.22625086 |  0.0110776822 | -0.03076507 | -0.03346932 | -0.10793625 |  0.17780128 |  0.03544426 | -0.11036823 |\n",
       "| RussellSq | -0.02568726 | -0.1082837586 | -0.001187759 | -0.06215828 |  0.1223642824 |  0.09778495 | -0.04344470 | -0.07215921 |  0.12224003 | -0.05742682 | -0.07669915 |\n",
       "| SanMarco |  0.09573132 | -0.0007064427 | -0.272437150 |  0.36167556 |  0.0003748802 | -0.01653707 |  0.19908596 |  0.23536408 | -0.22034104 | -0.13626878 | -0.10280702 |\n",
       "| StPaulsCross |  0.21529522 | -0.0533459905 | -0.048962698 | -0.02743854 | -0.0918942242 |  0.05332030 | -0.01060367 |  0.02960283 |  0.04934419 |  0.07318728 |  0.08167098 |\n",
       "| StPaulsRow |  0.27746896 | -0.0353193327 | -0.116190090 | -0.10964144 | -0.0402428147 |  0.09038877 | -0.00257461 |  0.03355749 |  0.02200673 |  0.02063009 |  0.07555775 |\n",
       "| TateModern |  0.58774645 |  0.0435862637 | -0.192447941 | -0.57857044 | -0.0155888274 |  0.20069913 | -0.08521857 | -0.03630603 |  0.03964700 |  0.02803712 |  0.22470379 |\n",
       "| TorringtonSq |  0.03606658 | -0.1020752703 |  0.128757408 |  0.19229050 | -0.1327847862 | -0.06251806 | -0.04323908 |  0.13178154 |  0.01637084 |  0.17969925 |  0.04647337 |\n",
       "\n"
      ],
      "text/plain": [
       "                   (Intercept) FS_Min        I_10_I_90    N_5        \n",
       "CamdenTown          0.19378845 -0.0483678431 -0.125384795 -0.19708156\n",
       "EustonTap          -0.16155383  0.1549856715  0.220447941 -0.37298118\n",
       "MarchmontGarden    -0.21403520  0.2160513650 -0.097392985  0.47381235\n",
       "MonumentoGaribaldi  0.17972876 -0.1902731880 -0.079396794 -0.29398991\n",
       "PancrasLock        -0.57729537  0.0571821549  0.127496865  0.58605755\n",
       "RegentsParkFields  -0.29204834  0.1978416829  0.273736421 -0.19822548\n",
       "RegentsParkJapan   -0.31520574 -0.1312753122  0.182961576  0.22625086\n",
       "RussellSq          -0.02568726 -0.1082837586 -0.001187759 -0.06215828\n",
       "SanMarco            0.09573132 -0.0007064427 -0.272437150  0.36167556\n",
       "StPaulsCross        0.21529522 -0.0533459905 -0.048962698 -0.02743854\n",
       "StPaulsRow          0.27746896 -0.0353193327 -0.116190090 -0.10964144\n",
       "TateModern          0.58774645  0.0435862637 -0.192447941 -0.57857044\n",
       "TorringtonSq        0.03606658 -0.1020752703  0.128757408  0.19229050\n",
       "                   T_5           R_5         FS          I_Max_I_Min\n",
       "CamdenTown          0.0703176805  0.14300930 -0.01704550 -0.06536135\n",
       "EustonTap           0.0819852136 -0.07542360 -0.14506426 -0.10952226\n",
       "MarchmontGarden    -0.0828264948 -0.25960176  0.22573508  0.27512692\n",
       "MonumentoGaribaldi  0.1728653058  0.25629642 -0.09809614 -0.17187145\n",
       "PancrasLock        -0.0266921608 -0.24010165  0.14548212  0.04276944\n",
       "RegentsParkFields  -0.0689557366 -0.15655167 -0.09154730 -0.18504576\n",
       "RegentsParkJapan    0.0110776822 -0.03076507 -0.03346932 -0.10793625\n",
       "RussellSq           0.1223642824  0.09778495 -0.04344470 -0.07215921\n",
       "SanMarco            0.0003748802 -0.01653707  0.19908596  0.23536408\n",
       "StPaulsCross       -0.0918942242  0.05332030 -0.01060367  0.02960283\n",
       "StPaulsRow         -0.0402428147  0.09038877 -0.00257461  0.03355749\n",
       "TateModern         -0.0155888274  0.20069913 -0.08521857 -0.03630603\n",
       "TorringtonSq       -0.1327847862 -0.06251806 -0.04323908  0.13178154\n",
       "                   SIL_Max_SIL_Min THD_10_THD_90 S_5        \n",
       "CamdenTown          0.08484730     -0.06545180    0.01226140\n",
       "EustonTap          -0.02924549      0.04592843    0.06750983\n",
       "MarchmontGarden    -0.42051404     -0.08211510   -0.07729962\n",
       "MonumentoGaribaldi  0.27260881     -0.07912349   -0.04184254\n",
       "PancrasLock        -0.12641819     -0.06106308   -0.19690494\n",
       "RegentsParkFields   0.01165258      0.09852266    0.09774438\n",
       "RegentsParkJapan    0.17780128      0.03544426   -0.11036823\n",
       "RussellSq           0.12224003     -0.05742682   -0.07669915\n",
       "SanMarco           -0.22034104     -0.13626878   -0.10280702\n",
       "StPaulsCross        0.04934419      0.07318728    0.08167098\n",
       "StPaulsRow          0.02200673      0.02063009    0.07555775\n",
       "TateModern          0.03964700      0.02803712    0.22470379\n",
       "TorringtonSq        0.01637084      0.17969925    0.04647337"
      ]
     },
     "metadata": {},
     "output_type": "display_data"
    },
    {
     "data": {
      "text/html": [
       "<span style=white-space:pre-wrap>'Predicted - Actual Correlation: 0.646373  '</span>"
      ],
      "text/latex": [
       "'Predicted - Actual Correlation: 0.646373  '"
      ],
      "text/markdown": [
       "<span style=white-space:pre-wrap>'Predicted - Actual Correlation: 0.646373  '</span>"
      ],
      "text/plain": [
       "[1] \"Predicted - Actual Correlation: 0.646373  \""
      ]
     },
     "metadata": {},
     "output_type": "display_data"
    },
    {
     "data": {
      "text/html": [
       "<span style=white-space:pre-wrap>'Predicted - Actual Variance: 0.283634  '</span>"
      ],
      "text/latex": [
       "'Predicted - Actual Variance: 0.283634  '"
      ],
      "text/markdown": [
       "<span style=white-space:pre-wrap>'Predicted - Actual Variance: 0.283634  '</span>"
      ],
      "text/plain": [
       "[1] \"Predicted - Actual Variance: 0.283634  \""
      ]
     },
     "metadata": {},
     "output_type": "display_data"
    },
    {
     "name": "stdout",
     "output_type": "stream",
     "text": [
      "[1] \"Actual summary:\"\n",
      "   Min. 1st Qu.  Median    Mean 3rd Qu.    Max. \n",
      "  1.000   2.500   3.000   3.065   4.000   5.000 \n",
      "[1] \"Predicted summary:\"\n",
      "   Min. 1st Qu.  Median    Mean 3rd Qu.    Max. \n",
      "  1.168   2.676   3.075   3.065   3.371   4.691 \n"
     ]
    },
    {
     "name": "stderr",
     "output_type": "stream",
     "text": [
      "`geom_smooth()` using formula 'y ~ x'\n"
     ]
    },
    {
     "data": {
      "image/png": "[encoded data removed]",
      "text/plain": [
       "plot without title"
      ]
     },
     "metadata": {},
     "output_type": "display_data"
    }
   ],
   "source": [
    "Human_formula <- as.formula(\"Human ~ FS_Min + I_10_I_90 + N_5 + T_5 + R_5 + FS + I_Max_I_Min + SIL_Max_SIL_Min + THD_10_THD_90 + S_5 + (FS_Min + I_10_I_90 + N_5 + T_5 + R_5 + FS + I_Max_I_Min + SIL_Max_SIL_Min + THD_10_THD_90 + S_5|LocationID)\")\n",
    "Human_model <- lmerTest::lmer(Human_formula, data = prelockdownData, REML=FALSE)\n",
    "\n",
    "summary(Human_model)\n",
    "r.squaredGLMM(Human_model)\n",
    "ranef(Human_model)$LocationID\n",
    "\n",
    "# Predicting\n",
    "prelockdownData$Human_pred <- predict(Human_model, newdata = prelockdownData)\n",
    "sprintf(fmt = \"%-10s%-10f\", \"Predicted - Actual Correlation: \", cor(prelockdownData$Human, prelockdownData$Human_pred))\n",
    "sprintf(fmt = \"%-10s%-10f\", \"Predicted - Actual Variance: \", var(prelockdownData$Human, prelockdownData$Human_pred))\n",
    "\n",
    "print(\"Actual summary:\")\n",
    "print(summary(prelockdownData$Human))\n",
    "print(\"Predicted summary:\")\n",
    "print(summary(prelockdownData$Human_pred))\n",
    "ggplot(prelockdownData, aes(x=Human, y=Human_pred)) + geom_point() +\n",
    "    geom_smooth(method=lm)"
   ]
  },
  {
   "cell_type": "markdown",
   "metadata": {},
   "source": [
    "# `Other` model"
   ]
  },
  {
   "cell_type": "code",
   "execution_count": 7,
   "metadata": {},
   "outputs": [
    {
     "name": "stderr",
     "output_type": "stream",
     "text": [
      "boundary (singular) fit: see ?isSingular\n"
     ]
    },
    {
     "data": {
      "text/plain": [
       "Linear mixed model fit by maximum likelihood . t-tests use Satterthwaite's\n",
       "  method [lmerModLmerTest]\n",
       "Formula: Other_formula\n",
       "   Data: prelockdownData\n",
       "\n",
       "     AIC      BIC   logLik deviance df.resid \n",
       "  1816.8   1884.2   -893.4   1786.8      646 \n",
       "\n",
       "Scaled residuals: \n",
       "    Min      1Q  Median      3Q     Max \n",
       "-2.2482 -0.7679 -0.1019  0.7158  3.6724 \n",
       "\n",
       "Random effects:\n",
       " Groups     Name             Variance Std.Dev. Corr             \n",
       " LocationID (Intercept)      0.17044  0.4128                    \n",
       "            SpectralCentroid 0.12889  0.3590   -0.52            \n",
       "            S_10             0.04741  0.2177    0.60 -1.00      \n",
       "            THD_10           0.03781  0.1945   -0.83  0.91 -0.94\n",
       " Residual                    0.82283  0.9071                    \n",
       "Number of obs: 661, groups:  LocationID, 13\n",
       "\n",
       "Fixed effects:\n",
       "                 Estimate Std. Error       df t value Pr(>|t|)    \n",
       "(Intercept)       2.44421    0.13393 12.08099  18.250 3.67e-10 ***\n",
       "SpectralCentroid -0.38381    0.14636 12.15892  -2.622   0.0221 *  \n",
       "S_10              0.17531    0.10165  8.46754   1.725   0.1208    \n",
       "THD_10           -0.06316    0.08107 11.34794  -0.779   0.4519    \n",
       "---\n",
       "Signif. codes:  0 '***' 0.001 '**' 0.01 '*' 0.05 '.' 0.1 ' ' 1\n",
       "\n",
       "Correlation of Fixed Effects:\n",
       "            (Intr) SpctrC S_10  \n",
       "SpctrlCntrd -0.478              \n",
       "S_10         0.416 -0.806       \n",
       "THD_10      -0.583  0.316 -0.417\n",
       "convergence code: 0\n",
       "boundary (singular) fit: see ?isSingular\n"
      ]
     },
     "metadata": {},
     "output_type": "display_data"
    },
    {
     "data": {
      "text/html": [
       "<table>\n",
       "<caption>A matrix: 1 × 2 of type dbl</caption>\n",
       "<thead>\n",
       "\t<tr><th scope=col>R2m</th><th scope=col>R2c</th></tr>\n",
       "</thead>\n",
       "<tbody>\n",
       "\t<tr><td>0.04268018</td><td>0.2269755</td></tr>\n",
       "</tbody>\n",
       "</table>\n"
      ],
      "text/latex": [
       "A matrix: 1 × 2 of type dbl\n",
       "\\begin{tabular}{ll}\n",
       " R2m & R2c\\\\\n",
       "\\hline\n",
       "\t 0.04268018 & 0.2269755\\\\\n",
       "\\end{tabular}\n"
      ],
      "text/markdown": [
       "\n",
       "A matrix: 1 × 2 of type dbl\n",
       "\n",
       "| R2m | R2c |\n",
       "|---|---|\n",
       "| 0.04268018 | 0.2269755 |\n",
       "\n"
      ],
      "text/plain": [
       "     R2m        R2c      \n",
       "[1,] 0.04268018 0.2269755"
      ]
     },
     "metadata": {},
     "output_type": "display_data"
    },
    {
     "data": {
      "text/html": [
       "<table>\n",
       "<caption>A data.frame: 13 × 4</caption>\n",
       "<thead>\n",
       "\t<tr><th></th><th scope=col>(Intercept)</th><th scope=col>SpectralCentroid</th><th scope=col>S_10</th><th scope=col>THD_10</th></tr>\n",
       "\t<tr><th></th><th scope=col>&lt;dbl&gt;</th><th scope=col>&lt;dbl&gt;</th><th scope=col>&lt;dbl&gt;</th><th scope=col>&lt;dbl&gt;</th></tr>\n",
       "</thead>\n",
       "<tbody>\n",
       "\t<tr><th scope=row>CamdenTown</th><td> 0.33359078</td><td>-0.18150921</td><td> 0.121527954</td><td>-0.140250801</td></tr>\n",
       "\t<tr><th scope=row>EustonTap</th><td> 0.55614633</td><td>-0.09441018</td><td> 0.083447103</td><td>-0.159082827</td></tr>\n",
       "\t<tr><th scope=row>MarchmontGarden</th><td>-0.13762933</td><td>-0.11756918</td><td> 0.060011635</td><td>-0.011223427</td></tr>\n",
       "\t<tr><th scope=row>MonumentoGaribaldi</th><td> 0.06549582</td><td>-0.24661519</td><td> 0.144612824</td><td>-0.103272590</td></tr>\n",
       "\t<tr><th scope=row>PancrasLock</th><td> 0.50297563</td><td>-0.30473000</td><td> 0.201010746</td><td>-0.222613708</td></tr>\n",
       "\t<tr><th scope=row>RegentsParkFields</th><td>-0.49320408</td><td> 0.52372702</td><td>-0.325835911</td><td> 0.299028889</td></tr>\n",
       "\t<tr><th scope=row>RegentsParkJapan</th><td>-0.74546339</td><td> 0.27109285</td><td>-0.194582677</td><td> 0.265124161</td></tr>\n",
       "\t<tr><th scope=row>RussellSq</th><td> 0.02182582</td><td>-0.26201570</td><td> 0.151117741</td><td>-0.098970645</td></tr>\n",
       "\t<tr><th scope=row>SanMarco</th><td>-0.07054016</td><td>-0.06617763</td><td> 0.034145935</td><td>-0.007877224</td></tr>\n",
       "\t<tr><th scope=row>StPaulsCross</th><td> 0.10462985</td><td>-0.32227980</td><td> 0.189988721</td><td>-0.139243719</td></tr>\n",
       "\t<tr><th scope=row>StPaulsRow</th><td>-0.19624831</td><td> 0.38345569</td><td>-0.229847715</td><td> 0.181828288</td></tr>\n",
       "\t<tr><th scope=row>TateModern</th><td>-0.18192874</td><td>-0.02863957</td><td> 0.006770398</td><td> 0.030672284</td></tr>\n",
       "\t<tr><th scope=row>TorringtonSq</th><td> 0.24034978</td><td> 0.44567090</td><td>-0.242366752</td><td> 0.105881320</td></tr>\n",
       "</tbody>\n",
       "</table>\n"
      ],
      "text/latex": [
       "A data.frame: 13 × 4\n",
       "\\begin{tabular}{r|llll}\n",
       "  & (Intercept) & SpectralCentroid & S\\_10 & THD\\_10\\\\\n",
       "  & <dbl> & <dbl> & <dbl> & <dbl>\\\\\n",
       "\\hline\n",
       "\tCamdenTown &  0.33359078 & -0.18150921 &  0.121527954 & -0.140250801\\\\\n",
       "\tEustonTap &  0.55614633 & -0.09441018 &  0.083447103 & -0.159082827\\\\\n",
       "\tMarchmontGarden & -0.13762933 & -0.11756918 &  0.060011635 & -0.011223427\\\\\n",
       "\tMonumentoGaribaldi &  0.06549582 & -0.24661519 &  0.144612824 & -0.103272590\\\\\n",
       "\tPancrasLock &  0.50297563 & -0.30473000 &  0.201010746 & -0.222613708\\\\\n",
       "\tRegentsParkFields & -0.49320408 &  0.52372702 & -0.325835911 &  0.299028889\\\\\n",
       "\tRegentsParkJapan & -0.74546339 &  0.27109285 & -0.194582677 &  0.265124161\\\\\n",
       "\tRussellSq &  0.02182582 & -0.26201570 &  0.151117741 & -0.098970645\\\\\n",
       "\tSanMarco & -0.07054016 & -0.06617763 &  0.034145935 & -0.007877224\\\\\n",
       "\tStPaulsCross &  0.10462985 & -0.32227980 &  0.189988721 & -0.139243719\\\\\n",
       "\tStPaulsRow & -0.19624831 &  0.38345569 & -0.229847715 &  0.181828288\\\\\n",
       "\tTateModern & -0.18192874 & -0.02863957 &  0.006770398 &  0.030672284\\\\\n",
       "\tTorringtonSq &  0.24034978 &  0.44567090 & -0.242366752 &  0.105881320\\\\\n",
       "\\end{tabular}\n"
      ],
      "text/markdown": [
       "\n",
       "A data.frame: 13 × 4\n",
       "\n",
       "| <!--/--> | (Intercept) &lt;dbl&gt; | SpectralCentroid &lt;dbl&gt; | S_10 &lt;dbl&gt; | THD_10 &lt;dbl&gt; |\n",
       "|---|---|---|---|---|\n",
       "| CamdenTown |  0.33359078 | -0.18150921 |  0.121527954 | -0.140250801 |\n",
       "| EustonTap |  0.55614633 | -0.09441018 |  0.083447103 | -0.159082827 |\n",
       "| MarchmontGarden | -0.13762933 | -0.11756918 |  0.060011635 | -0.011223427 |\n",
       "| MonumentoGaribaldi |  0.06549582 | -0.24661519 |  0.144612824 | -0.103272590 |\n",
       "| PancrasLock |  0.50297563 | -0.30473000 |  0.201010746 | -0.222613708 |\n",
       "| RegentsParkFields | -0.49320408 |  0.52372702 | -0.325835911 |  0.299028889 |\n",
       "| RegentsParkJapan | -0.74546339 |  0.27109285 | -0.194582677 |  0.265124161 |\n",
       "| RussellSq |  0.02182582 | -0.26201570 |  0.151117741 | -0.098970645 |\n",
       "| SanMarco | -0.07054016 | -0.06617763 |  0.034145935 | -0.007877224 |\n",
       "| StPaulsCross |  0.10462985 | -0.32227980 |  0.189988721 | -0.139243719 |\n",
       "| StPaulsRow | -0.19624831 |  0.38345569 | -0.229847715 |  0.181828288 |\n",
       "| TateModern | -0.18192874 | -0.02863957 |  0.006770398 |  0.030672284 |\n",
       "| TorringtonSq |  0.24034978 |  0.44567090 | -0.242366752 |  0.105881320 |\n",
       "\n"
      ],
      "text/plain": [
       "                   (Intercept) SpectralCentroid S_10         THD_10      \n",
       "CamdenTown          0.33359078 -0.18150921       0.121527954 -0.140250801\n",
       "EustonTap           0.55614633 -0.09441018       0.083447103 -0.159082827\n",
       "MarchmontGarden    -0.13762933 -0.11756918       0.060011635 -0.011223427\n",
       "MonumentoGaribaldi  0.06549582 -0.24661519       0.144612824 -0.103272590\n",
       "PancrasLock         0.50297563 -0.30473000       0.201010746 -0.222613708\n",
       "RegentsParkFields  -0.49320408  0.52372702      -0.325835911  0.299028889\n",
       "RegentsParkJapan   -0.74546339  0.27109285      -0.194582677  0.265124161\n",
       "RussellSq           0.02182582 -0.26201570       0.151117741 -0.098970645\n",
       "SanMarco           -0.07054016 -0.06617763       0.034145935 -0.007877224\n",
       "StPaulsCross        0.10462985 -0.32227980       0.189988721 -0.139243719\n",
       "StPaulsRow         -0.19624831  0.38345569      -0.229847715  0.181828288\n",
       "TateModern         -0.18192874 -0.02863957       0.006770398  0.030672284\n",
       "TorringtonSq        0.24034978  0.44567090      -0.242366752  0.105881320"
      ]
     },
     "metadata": {},
     "output_type": "display_data"
    },
    {
     "data": {
      "text/html": [
       "<span style=white-space:pre-wrap>'Predicted - Actual Correlation: 0.482504  '</span>"
      ],
      "text/latex": [
       "'Predicted - Actual Correlation: 0.482504  '"
      ],
      "text/markdown": [
       "<span style=white-space:pre-wrap>'Predicted - Actual Correlation: 0.482504  '</span>"
      ],
      "text/plain": [
       "[1] \"Predicted - Actual Correlation: 0.482504  \""
      ]
     },
     "metadata": {},
     "output_type": "display_data"
    },
    {
     "data": {
      "text/html": [
       "<span style=white-space:pre-wrap>'Predicted - Actual Variance: 0.217905  '</span>"
      ],
      "text/latex": [
       "'Predicted - Actual Variance: 0.217905  '"
      ],
      "text/markdown": [
       "<span style=white-space:pre-wrap>'Predicted - Actual Variance: 0.217905  '</span>"
      ],
      "text/plain": [
       "[1] \"Predicted - Actual Variance: 0.217905  \""
      ]
     },
     "metadata": {},
     "output_type": "display_data"
    },
    {
     "name": "stdout",
     "output_type": "stream",
     "text": [
      "[1] \"Actual summary:\"\n",
      "   Min. 1st Qu.  Median    Mean 3rd Qu.    Max. \n",
      "  1.000   1.500   2.000   2.303   3.000   5.000 \n",
      "[1] \"Predicted summary:\"\n",
      "   Min. 1st Qu.  Median    Mean 3rd Qu.    Max. \n",
      "  1.069   1.972   2.281   2.303   2.681   3.754 \n"
     ]
    },
    {
     "name": "stderr",
     "output_type": "stream",
     "text": [
      "`geom_smooth()` using formula 'y ~ x'\n"
     ]
    },
    {
     "data": {
      "image/png": "[encoded data removed]",
      "text/plain": [
       "plot without title"
      ]
     },
     "metadata": {},
     "output_type": "display_data"
    }
   ],
   "source": [
    "Other_formula <- as.formula(\"Other ~ SpectralCentroid + S_10 + THD_10 + (SpectralCentroid + S_10 + THD_10|LocationID)\")\n",
    "Other_model <- lmerTest::lmer(Other_formula, data = prelockdownData, REML=FALSE)\n",
    "\n",
    "summary(Other_model)\n",
    "r.squaredGLMM(Other_model)\n",
    "ranef(Other_model)$LocationID\n",
    "\n",
    "# Predicting\n",
    "prelockdownData$Other_pred <- predict(Other_model, newdata = prelockdownData)\n",
    "sprintf(fmt = \"%-10s%-10f\", \"Predicted - Actual Correlation: \", cor(prelockdownData$Other, prelockdownData$Other_pred))\n",
    "sprintf(fmt = \"%-10s%-10f\", \"Predicted - Actual Variance: \", var(prelockdownData$Other, prelockdownData$Other_pred))\n",
    "\n",
    "print(\"Actual summary:\")\n",
    "print(summary(prelockdownData$Other))\n",
    "print(\"Predicted summary:\")\n",
    "print(summary(prelockdownData$Other_pred))\n",
    "ggplot(prelockdownData, aes(x=Other, y=Other_pred)) + geom_point() +\n",
    "    geom_smooth(method=lm)"
   ]
  },
  {
   "cell_type": "markdown",
   "metadata": {},
   "source": [
    "# `overall` model"
   ]
  },
  {
   "cell_type": "code",
   "execution_count": 8,
   "metadata": {},
   "outputs": [
    {
     "name": "stderr",
     "output_type": "stream",
     "text": [
      "boundary (singular) fit: see ?isSingular\n"
     ]
    },
    {
     "data": {
      "text/plain": [
       "Linear mixed model fit by maximum likelihood . t-tests use Satterthwaite's\n",
       "  method [lmerModLmerTest]\n",
       "Formula: overall_formula\n",
       "   Data: prelockdownData\n",
       "\n",
       "     AIC      BIC   logLik deviance df.resid \n",
       "  1535.7   1661.5   -739.8   1479.7      633 \n",
       "\n",
       "Scaled residuals: \n",
       "    Min      1Q  Median      3Q     Max \n",
       "-3.7709 -0.6385  0.1063  0.6330  2.2358 \n",
       "\n",
       "Random effects:\n",
       " Groups     Name          Variance Std.Dev. Corr                         \n",
       " LocationID (Intercept)   0.112822 0.33589                               \n",
       "            LCeq          0.049161 0.22172   0.53                        \n",
       "            THD_95        0.024929 0.15789   0.29  0.59                  \n",
       "            R_Min         0.060275 0.24551  -0.86 -0.46  0.16            \n",
       "            FS_Max_FS_Min 0.001833 0.04282  -0.47 -0.61 -0.98  0.01      \n",
       "            I_5_I_95      0.006299 0.07937  -0.31 -0.58 -1.00 -0.15  0.98\n",
       " Residual                 0.505256 0.71081                               \n",
       "Number of obs: 661, groups:  LocationID, 13\n",
       "\n",
       "Fixed effects:\n",
       "              Estimate Std. Error       df t value Pr(>|t|)    \n",
       "(Intercept)    3.63821    0.10630 10.92363  34.227 1.83e-12 ***\n",
       "LCeq          -0.27529    0.09282 10.25303  -2.966   0.0138 *  \n",
       "THD_95         0.02229    0.06137 14.37776   0.363   0.7217    \n",
       "R_Min          0.10421    0.09941 11.59738   1.048   0.3158    \n",
       "FS_Max_FS_Min  0.02746    0.03201 22.92931   0.858   0.3998    \n",
       "I_5_I_95      -0.06878    0.04418 20.37536  -1.557   0.1349    \n",
       "---\n",
       "Signif. codes:  0 '***' 0.001 '**' 0.01 '*' 0.05 '.' 0.1 ' ' 1\n",
       "\n",
       "Correlation of Fixed Effects:\n",
       "            (Intr) LCeq   THD_95 R_Min  FS_M_F\n",
       "LCeq         0.284                            \n",
       "THD_95       0.111  0.433                     \n",
       "R_Min       -0.561 -0.543 -0.067              \n",
       "FS_Mx_FS_Mn -0.158 -0.334 -0.398  0.121       \n",
       "I_5_I_95    -0.137 -0.177 -0.317 -0.064 -0.027\n",
       "convergence code: 0\n",
       "boundary (singular) fit: see ?isSingular\n"
      ]
     },
     "metadata": {},
     "output_type": "display_data"
    },
    {
     "data": {
      "text/html": [
       "<table>\n",
       "<caption>A matrix: 1 × 2 of type dbl</caption>\n",
       "<thead>\n",
       "\t<tr><th scope=col>R2m</th><th scope=col>R2c</th></tr>\n",
       "</thead>\n",
       "<tbody>\n",
       "\t<tr><td>0.05039524</td><td>0.3307387</td></tr>\n",
       "</tbody>\n",
       "</table>\n"
      ],
      "text/latex": [
       "A matrix: 1 × 2 of type dbl\n",
       "\\begin{tabular}{ll}\n",
       " R2m & R2c\\\\\n",
       "\\hline\n",
       "\t 0.05039524 & 0.3307387\\\\\n",
       "\\end{tabular}\n"
      ],
      "text/markdown": [
       "\n",
       "A matrix: 1 × 2 of type dbl\n",
       "\n",
       "| R2m | R2c |\n",
       "|---|---|\n",
       "| 0.05039524 | 0.3307387 |\n",
       "\n"
      ],
      "text/plain": [
       "     R2m        R2c      \n",
       "[1,] 0.05039524 0.3307387"
      ]
     },
     "metadata": {},
     "output_type": "display_data"
    },
    {
     "data": {
      "text/html": [
       "<table>\n",
       "<caption>A data.frame: 13 × 6</caption>\n",
       "<thead>\n",
       "\t<tr><th></th><th scope=col>(Intercept)</th><th scope=col>LCeq</th><th scope=col>THD_95</th><th scope=col>R_Min</th><th scope=col>FS_Max_FS_Min</th><th scope=col>I_5_I_95</th></tr>\n",
       "\t<tr><th></th><th scope=col>&lt;dbl&gt;</th><th scope=col>&lt;dbl&gt;</th><th scope=col>&lt;dbl&gt;</th><th scope=col>&lt;dbl&gt;</th><th scope=col>&lt;dbl&gt;</th><th scope=col>&lt;dbl&gt;</th></tr>\n",
       "</thead>\n",
       "<tbody>\n",
       "\t<tr><th scope=row>CamdenTown</th><td>-0.08901736</td><td>-0.25268113</td><td>-0.325072531</td><td>-0.15759296</td><td> 0.0830329541</td><td> 0.162496615</td></tr>\n",
       "\t<tr><th scope=row>EustonTap</th><td>-0.66489153</td><td>-0.34990584</td><td>-0.090227449</td><td> 0.46776316</td><td> 0.0378837752</td><td> 0.047018848</td></tr>\n",
       "\t<tr><th scope=row>MarchmontGarden</th><td>-0.11620098</td><td> 0.11314882</td><td>-0.034601771</td><td>-0.01140297</td><td> 0.0147935067</td><td> 0.020397651</td></tr>\n",
       "\t<tr><th scope=row>MonumentoGaribaldi</th><td> 0.09545395</td><td>-0.02847528</td><td>-0.058461340</td><td>-0.10381367</td><td> 0.0117573982</td><td> 0.028416948</td></tr>\n",
       "\t<tr><th scope=row>PancrasLock</th><td> 0.05138367</td><td> 0.02730957</td><td> 0.187565122</td><td> 0.14162951</td><td>-0.0501200102</td><td>-0.095525278</td></tr>\n",
       "\t<tr><th scope=row>RegentsParkFields</th><td> 0.30507655</td><td>-0.07738553</td><td>-0.043191928</td><td>-0.19611800</td><td> 0.0002878209</td><td> 0.017925907</td></tr>\n",
       "\t<tr><th scope=row>RegentsParkJapan</th><td> 0.59427515</td><td> 0.17721181</td><td> 0.053469731</td><td>-0.38684454</td><td>-0.0292858219</td><td>-0.030216328</td></tr>\n",
       "\t<tr><th scope=row>RussellSq</th><td> 0.16928845</td><td> 0.29541964</td><td> 0.201464157</td><td>-0.03158264</td><td>-0.0524457785</td><td>-0.099723792</td></tr>\n",
       "\t<tr><th scope=row>SanMarco</th><td>-0.08308178</td><td>-0.09432899</td><td>-0.007872164</td><td> 0.08346050</td><td> 0.0029008016</td><td> 0.003389990</td></tr>\n",
       "\t<tr><th scope=row>StPaulsCross</th><td> 0.05669130</td><td> 0.14939986</td><td> 0.161703749</td><td> 0.06065182</td><td>-0.0412504843</td><td>-0.080596893</td></tr>\n",
       "\t<tr><th scope=row>StPaulsRow</th><td>-0.19724305</td><td>-0.02592188</td><td> 0.056716748</td><td> 0.18766734</td><td>-0.0091272527</td><td>-0.027372243</td></tr>\n",
       "\t<tr><th scope=row>TateModern</th><td> 0.22074654</td><td> 0.13940436</td><td> 0.002545974</td><td>-0.19224377</td><td>-0.0049807350</td><td>-0.001316547</td></tr>\n",
       "\t<tr><th scope=row>TorringtonSq</th><td>-0.34248090</td><td>-0.07319540</td><td>-0.104038298</td><td> 0.13842622</td><td> 0.0365538260</td><td> 0.055105121</td></tr>\n",
       "</tbody>\n",
       "</table>\n"
      ],
      "text/latex": [
       "A data.frame: 13 × 6\n",
       "\\begin{tabular}{r|llllll}\n",
       "  & (Intercept) & LCeq & THD\\_95 & R\\_Min & FS\\_Max\\_FS\\_Min & I\\_5\\_I\\_95\\\\\n",
       "  & <dbl> & <dbl> & <dbl> & <dbl> & <dbl> & <dbl>\\\\\n",
       "\\hline\n",
       "\tCamdenTown & -0.08901736 & -0.25268113 & -0.325072531 & -0.15759296 &  0.0830329541 &  0.162496615\\\\\n",
       "\tEustonTap & -0.66489153 & -0.34990584 & -0.090227449 &  0.46776316 &  0.0378837752 &  0.047018848\\\\\n",
       "\tMarchmontGarden & -0.11620098 &  0.11314882 & -0.034601771 & -0.01140297 &  0.0147935067 &  0.020397651\\\\\n",
       "\tMonumentoGaribaldi &  0.09545395 & -0.02847528 & -0.058461340 & -0.10381367 &  0.0117573982 &  0.028416948\\\\\n",
       "\tPancrasLock &  0.05138367 &  0.02730957 &  0.187565122 &  0.14162951 & -0.0501200102 & -0.095525278\\\\\n",
       "\tRegentsParkFields &  0.30507655 & -0.07738553 & -0.043191928 & -0.19611800 &  0.0002878209 &  0.017925907\\\\\n",
       "\tRegentsParkJapan &  0.59427515 &  0.17721181 &  0.053469731 & -0.38684454 & -0.0292858219 & -0.030216328\\\\\n",
       "\tRussellSq &  0.16928845 &  0.29541964 &  0.201464157 & -0.03158264 & -0.0524457785 & -0.099723792\\\\\n",
       "\tSanMarco & -0.08308178 & -0.09432899 & -0.007872164 &  0.08346050 &  0.0029008016 &  0.003389990\\\\\n",
       "\tStPaulsCross &  0.05669130 &  0.14939986 &  0.161703749 &  0.06065182 & -0.0412504843 & -0.080596893\\\\\n",
       "\tStPaulsRow & -0.19724305 & -0.02592188 &  0.056716748 &  0.18766734 & -0.0091272527 & -0.027372243\\\\\n",
       "\tTateModern &  0.22074654 &  0.13940436 &  0.002545974 & -0.19224377 & -0.0049807350 & -0.001316547\\\\\n",
       "\tTorringtonSq & -0.34248090 & -0.07319540 & -0.104038298 &  0.13842622 &  0.0365538260 &  0.055105121\\\\\n",
       "\\end{tabular}\n"
      ],
      "text/markdown": [
       "\n",
       "A data.frame: 13 × 6\n",
       "\n",
       "| <!--/--> | (Intercept) &lt;dbl&gt; | LCeq &lt;dbl&gt; | THD_95 &lt;dbl&gt; | R_Min &lt;dbl&gt; | FS_Max_FS_Min &lt;dbl&gt; | I_5_I_95 &lt;dbl&gt; |\n",
       "|---|---|---|---|---|---|---|\n",
       "| CamdenTown | -0.08901736 | -0.25268113 | -0.325072531 | -0.15759296 |  0.0830329541 |  0.162496615 |\n",
       "| EustonTap | -0.66489153 | -0.34990584 | -0.090227449 |  0.46776316 |  0.0378837752 |  0.047018848 |\n",
       "| MarchmontGarden | -0.11620098 |  0.11314882 | -0.034601771 | -0.01140297 |  0.0147935067 |  0.020397651 |\n",
       "| MonumentoGaribaldi |  0.09545395 | -0.02847528 | -0.058461340 | -0.10381367 |  0.0117573982 |  0.028416948 |\n",
       "| PancrasLock |  0.05138367 |  0.02730957 |  0.187565122 |  0.14162951 | -0.0501200102 | -0.095525278 |\n",
       "| RegentsParkFields |  0.30507655 | -0.07738553 | -0.043191928 | -0.19611800 |  0.0002878209 |  0.017925907 |\n",
       "| RegentsParkJapan |  0.59427515 |  0.17721181 |  0.053469731 | -0.38684454 | -0.0292858219 | -0.030216328 |\n",
       "| RussellSq |  0.16928845 |  0.29541964 |  0.201464157 | -0.03158264 | -0.0524457785 | -0.099723792 |\n",
       "| SanMarco | -0.08308178 | -0.09432899 | -0.007872164 |  0.08346050 |  0.0029008016 |  0.003389990 |\n",
       "| StPaulsCross |  0.05669130 |  0.14939986 |  0.161703749 |  0.06065182 | -0.0412504843 | -0.080596893 |\n",
       "| StPaulsRow | -0.19724305 | -0.02592188 |  0.056716748 |  0.18766734 | -0.0091272527 | -0.027372243 |\n",
       "| TateModern |  0.22074654 |  0.13940436 |  0.002545974 | -0.19224377 | -0.0049807350 | -0.001316547 |\n",
       "| TorringtonSq | -0.34248090 | -0.07319540 | -0.104038298 |  0.13842622 |  0.0365538260 |  0.055105121 |\n",
       "\n"
      ],
      "text/plain": [
       "                   (Intercept) LCeq        THD_95       R_Min      \n",
       "CamdenTown         -0.08901736 -0.25268113 -0.325072531 -0.15759296\n",
       "EustonTap          -0.66489153 -0.34990584 -0.090227449  0.46776316\n",
       "MarchmontGarden    -0.11620098  0.11314882 -0.034601771 -0.01140297\n",
       "MonumentoGaribaldi  0.09545395 -0.02847528 -0.058461340 -0.10381367\n",
       "PancrasLock         0.05138367  0.02730957  0.187565122  0.14162951\n",
       "RegentsParkFields   0.30507655 -0.07738553 -0.043191928 -0.19611800\n",
       "RegentsParkJapan    0.59427515  0.17721181  0.053469731 -0.38684454\n",
       "RussellSq           0.16928845  0.29541964  0.201464157 -0.03158264\n",
       "SanMarco           -0.08308178 -0.09432899 -0.007872164  0.08346050\n",
       "StPaulsCross        0.05669130  0.14939986  0.161703749  0.06065182\n",
       "StPaulsRow         -0.19724305 -0.02592188  0.056716748  0.18766734\n",
       "TateModern          0.22074654  0.13940436  0.002545974 -0.19224377\n",
       "TorringtonSq       -0.34248090 -0.07319540 -0.104038298  0.13842622\n",
       "                   FS_Max_FS_Min I_5_I_95    \n",
       "CamdenTown          0.0830329541  0.162496615\n",
       "EustonTap           0.0378837752  0.047018848\n",
       "MarchmontGarden     0.0147935067  0.020397651\n",
       "MonumentoGaribaldi  0.0117573982  0.028416948\n",
       "PancrasLock        -0.0501200102 -0.095525278\n",
       "RegentsParkFields   0.0002878209  0.017925907\n",
       "RegentsParkJapan   -0.0292858219 -0.030216328\n",
       "RussellSq          -0.0524457785 -0.099723792\n",
       "SanMarco            0.0029008016  0.003389990\n",
       "StPaulsCross       -0.0412504843 -0.080596893\n",
       "StPaulsRow         -0.0091272527 -0.027372243\n",
       "TateModern         -0.0049807350 -0.001316547\n",
       "TorringtonSq        0.0365538260  0.055105121"
      ]
     },
     "metadata": {},
     "output_type": "display_data"
    },
    {
     "data": {
      "text/html": [
       "<span style=white-space:pre-wrap>'Predicted - Actual Correlation: 0.646975  '</span>"
      ],
      "text/latex": [
       "'Predicted - Actual Correlation: 0.646975  '"
      ],
      "text/markdown": [
       "<span style=white-space:pre-wrap>'Predicted - Actual Correlation: 0.646975  '</span>"
      ],
      "text/plain": [
       "[1] \"Predicted - Actual Correlation: 0.646975  \""
      ]
     },
     "metadata": {},
     "output_type": "display_data"
    },
    {
     "data": {
      "text/html": [
       "<span style=white-space:pre-wrap>'Predicted - Actual Variance: 0.331279  '</span>"
      ],
      "text/latex": [
       "'Predicted - Actual Variance: 0.331279  '"
      ],
      "text/markdown": [
       "<span style=white-space:pre-wrap>'Predicted - Actual Variance: 0.331279  '</span>"
      ],
      "text/plain": [
       "[1] \"Predicted - Actual Variance: 0.331279  \""
      ]
     },
     "metadata": {},
     "output_type": "display_data"
    },
    {
     "name": "stdout",
     "output_type": "stream",
     "text": [
      "[1] \"Actual summary:\"\n",
      "   Min. 1st Qu.  Median    Mean 3rd Qu.    Max. \n",
      "  1.000   3.000   4.000   3.657   4.000   5.000 \n",
      "[1] \"Predicted summary:\"\n",
      "   Min. 1st Qu.  Median    Mean 3rd Qu.    Max. \n",
      "  1.381   3.372   3.697   3.657   3.997   4.840 \n"
     ]
    },
    {
     "name": "stderr",
     "output_type": "stream",
     "text": [
      "`geom_smooth()` using formula 'y ~ x'\n"
     ]
    },
    {
     "data": {
      "image/png": "[encoded data removed]",
      "text/plain": [
       "plot without title"
      ]
     },
     "metadata": {},
     "output_type": "display_data"
    }
   ],
   "source": [
    "overall_formula <- as.formula(\"overall ~ LCeq + THD_95 + R_Min + FS_Max_FS_Min + I_5_I_95 + (LCeq + THD_95 + R_Min + FS_Max_FS_Min + I_5_I_95 |LocationID)\")\n",
    "overall_model <- lmerTest::lmer(overall_formula, data = prelockdownData, REML=FALSE)\n",
    "\n",
    "summary(overall_model)\n",
    "r.squaredGLMM(overall_model)\n",
    "ranef(overall_model)$LocationID\n",
    "\n",
    "# Predicting\n",
    "prelockdownData$overall_pred <- predict(overall_model, newdata = prelockdownData)\n",
    "sprintf(fmt = \"%-10s%-10f\", \"Predicted - Actual Correlation: \", cor(prelockdownData$overall, prelockdownData$overall_pred))\n",
    "sprintf(fmt = \"%-10s%-10f\", \"Predicted - Actual Variance: \", var(prelockdownData$overall, prelockdownData$overall_pred))\n",
    "\n",
    "print(\"Actual summary:\")\n",
    "print(summary(prelockdownData$overall))\n",
    "print(\"Predicted summary:\")\n",
    "print(summary(prelockdownData$overall_pred))\n",
    "ggplot(prelockdownData, aes(x=overall, y=overall_pred)) + geom_point() +\n",
    "    geom_smooth(method=lm)"
   ]
  },
  {
   "cell_type": "markdown",
   "metadata": {},
   "source": [
    "# `loudness` model"
   ]
  },
  {
   "cell_type": "code",
   "execution_count": 9,
   "metadata": {},
   "outputs": [
    {
     "name": "stderr",
     "output_type": "stream",
     "text": [
      "boundary (singular) fit: see ?isSingular\n"
     ]
    },
    {
     "data": {
      "text/plain": [
       "Linear mixed model fit by maximum likelihood . t-tests use Satterthwaite's\n",
       "  method [lmerModLmerTest]\n",
       "Formula: loudness_formula\n",
       "   Data: prelockdownData\n",
       "\n",
       "     AIC      BIC   logLik deviance df.resid \n",
       "  1371.6   1439.0   -670.8   1341.6      646 \n",
       "\n",
       "Scaled residuals: \n",
       "     Min       1Q   Median       3Q      Max \n",
       "-2.92577 -0.52942  0.02101  0.56026  3.13486 \n",
       "\n",
       "Random effects:\n",
       " Groups     Name        Variance  Std.Dev. Corr             \n",
       " LocationID (Intercept) 0.0005779 0.02404                   \n",
       "            R_95        0.2819784 0.53102  -1.00            \n",
       "            LCeq_50     0.0943866 0.30722   1.00 -1.00      \n",
       "            S           0.0002635 0.01623  -1.00  1.00 -1.00\n",
       " Residual               0.4309371 0.65646                   \n",
       "Number of obs: 661, groups:  LocationID, 13\n",
       "\n",
       "Fixed effects:\n",
       "             Estimate Std. Error        df t value Pr(>|t|)    \n",
       "(Intercept)   2.89613    0.03592  32.73455  80.637  < 2e-16 ***\n",
       "R_95          0.19989    0.16726  11.03814   1.195 0.257114    \n",
       "LCeq_50       0.19192    0.10773  13.45452   1.782 0.097404 .  \n",
       "S             0.11968    0.03569 177.06576   3.354 0.000976 ***\n",
       "---\n",
       "Signif. codes:  0 '***' 0.001 '**' 0.01 '*' 0.05 '.' 0.1 ' ' 1\n",
       "\n",
       "Correlation of Fixed Effects:\n",
       "        (Intr) R_95   LCq_50\n",
       "R_95    -0.186              \n",
       "LCeq_50  0.078 -0.936       \n",
       "S       -0.104  0.179 -0.291\n",
       "convergence code: 0\n",
       "boundary (singular) fit: see ?isSingular\n"
      ]
     },
     "metadata": {},
     "output_type": "display_data"
    },
    {
     "data": {
      "text/html": [
       "<table>\n",
       "<caption>A matrix: 1 × 2 of type dbl</caption>\n",
       "<thead>\n",
       "\t<tr><th scope=col>R2m</th><th scope=col>R2c</th></tr>\n",
       "</thead>\n",
       "<tbody>\n",
       "\t<tr><td>0.2080431</td><td>0.2875252</td></tr>\n",
       "</tbody>\n",
       "</table>\n"
      ],
      "text/latex": [
       "A matrix: 1 × 2 of type dbl\n",
       "\\begin{tabular}{ll}\n",
       " R2m & R2c\\\\\n",
       "\\hline\n",
       "\t 0.2080431 & 0.2875252\\\\\n",
       "\\end{tabular}\n"
      ],
      "text/markdown": [
       "\n",
       "A matrix: 1 × 2 of type dbl\n",
       "\n",
       "| R2m | R2c |\n",
       "|---|---|\n",
       "| 0.2080431 | 0.2875252 |\n",
       "\n"
      ],
      "text/plain": [
       "     R2m       R2c      \n",
       "[1,] 0.2080431 0.2875252"
      ]
     },
     "metadata": {},
     "output_type": "display_data"
    },
    {
     "data": {
      "text/html": [
       "<table>\n",
       "<caption>A data.frame: 13 × 4</caption>\n",
       "<thead>\n",
       "\t<tr><th></th><th scope=col>(Intercept)</th><th scope=col>R_95</th><th scope=col>LCeq_50</th><th scope=col>S</th></tr>\n",
       "\t<tr><th></th><th scope=col>&lt;dbl&gt;</th><th scope=col>&lt;dbl&gt;</th><th scope=col>&lt;dbl&gt;</th><th scope=col>&lt;dbl&gt;</th></tr>\n",
       "</thead>\n",
       "<tbody>\n",
       "\t<tr><th scope=row>CamdenTown</th><td> 0.022087105</td><td>-0.4878676</td><td> 0.2822635</td><td>-0.014914016</td></tr>\n",
       "\t<tr><th scope=row>EustonTap</th><td> 0.036927287</td><td>-0.8156949</td><td> 0.4719245</td><td>-0.024936126</td></tr>\n",
       "\t<tr><th scope=row>MarchmontGarden</th><td>-0.010621823</td><td> 0.2346266</td><td>-0.1357447</td><td> 0.007172613</td></tr>\n",
       "\t<tr><th scope=row>MonumentoGaribaldi</th><td>-0.010300040</td><td> 0.2275186</td><td>-0.1316324</td><td> 0.006955317</td></tr>\n",
       "\t<tr><th scope=row>PancrasLock</th><td> 0.009500273</td><td>-0.2098528</td><td> 0.1214116</td><td>-0.006415272</td></tr>\n",
       "\t<tr><th scope=row>RegentsParkFields</th><td>-0.038722455</td><td> 0.8553423</td><td>-0.4948644</td><td> 0.026148064</td></tr>\n",
       "\t<tr><th scope=row>RegentsParkJapan</th><td>-0.008684247</td><td> 0.1918234</td><td>-0.1109817</td><td> 0.005864047</td></tr>\n",
       "\t<tr><th scope=row>RussellSq</th><td>-0.016410864</td><td> 0.3624967</td><td>-0.2097260</td><td> 0.011081571</td></tr>\n",
       "\t<tr><th scope=row>SanMarco</th><td> 0.006438018</td><td>-0.1422089</td><td> 0.0822762</td><td>-0.004347356</td></tr>\n",
       "\t<tr><th scope=row>StPaulsCross</th><td> 0.031474281</td><td>-0.6952356</td><td> 0.4022339</td><td>-0.021253534</td></tr>\n",
       "\t<tr><th scope=row>StPaulsRow</th><td> 0.014309404</td><td>-0.3160802</td><td> 0.1828707</td><td>-0.009662650</td></tr>\n",
       "\t<tr><th scope=row>TateModern</th><td>-0.017881827</td><td> 0.3949904</td><td>-0.2285251</td><td> 0.012074937</td></tr>\n",
       "\t<tr><th scope=row>TorringtonSq</th><td>-0.018115112</td><td> 0.4001421</td><td>-0.2315060</td><td> 0.012232406</td></tr>\n",
       "</tbody>\n",
       "</table>\n"
      ],
      "text/latex": [
       "A data.frame: 13 × 4\n",
       "\\begin{tabular}{r|llll}\n",
       "  & (Intercept) & R\\_95 & LCeq\\_50 & S\\\\\n",
       "  & <dbl> & <dbl> & <dbl> & <dbl>\\\\\n",
       "\\hline\n",
       "\tCamdenTown &  0.022087105 & -0.4878676 &  0.2822635 & -0.014914016\\\\\n",
       "\tEustonTap &  0.036927287 & -0.8156949 &  0.4719245 & -0.024936126\\\\\n",
       "\tMarchmontGarden & -0.010621823 &  0.2346266 & -0.1357447 &  0.007172613\\\\\n",
       "\tMonumentoGaribaldi & -0.010300040 &  0.2275186 & -0.1316324 &  0.006955317\\\\\n",
       "\tPancrasLock &  0.009500273 & -0.2098528 &  0.1214116 & -0.006415272\\\\\n",
       "\tRegentsParkFields & -0.038722455 &  0.8553423 & -0.4948644 &  0.026148064\\\\\n",
       "\tRegentsParkJapan & -0.008684247 &  0.1918234 & -0.1109817 &  0.005864047\\\\\n",
       "\tRussellSq & -0.016410864 &  0.3624967 & -0.2097260 &  0.011081571\\\\\n",
       "\tSanMarco &  0.006438018 & -0.1422089 &  0.0822762 & -0.004347356\\\\\n",
       "\tStPaulsCross &  0.031474281 & -0.6952356 &  0.4022339 & -0.021253534\\\\\n",
       "\tStPaulsRow &  0.014309404 & -0.3160802 &  0.1828707 & -0.009662650\\\\\n",
       "\tTateModern & -0.017881827 &  0.3949904 & -0.2285251 &  0.012074937\\\\\n",
       "\tTorringtonSq & -0.018115112 &  0.4001421 & -0.2315060 &  0.012232406\\\\\n",
       "\\end{tabular}\n"
      ],
      "text/markdown": [
       "\n",
       "A data.frame: 13 × 4\n",
       "\n",
       "| <!--/--> | (Intercept) &lt;dbl&gt; | R_95 &lt;dbl&gt; | LCeq_50 &lt;dbl&gt; | S &lt;dbl&gt; |\n",
       "|---|---|---|---|---|\n",
       "| CamdenTown |  0.022087105 | -0.4878676 |  0.2822635 | -0.014914016 |\n",
       "| EustonTap |  0.036927287 | -0.8156949 |  0.4719245 | -0.024936126 |\n",
       "| MarchmontGarden | -0.010621823 |  0.2346266 | -0.1357447 |  0.007172613 |\n",
       "| MonumentoGaribaldi | -0.010300040 |  0.2275186 | -0.1316324 |  0.006955317 |\n",
       "| PancrasLock |  0.009500273 | -0.2098528 |  0.1214116 | -0.006415272 |\n",
       "| RegentsParkFields | -0.038722455 |  0.8553423 | -0.4948644 |  0.026148064 |\n",
       "| RegentsParkJapan | -0.008684247 |  0.1918234 | -0.1109817 |  0.005864047 |\n",
       "| RussellSq | -0.016410864 |  0.3624967 | -0.2097260 |  0.011081571 |\n",
       "| SanMarco |  0.006438018 | -0.1422089 |  0.0822762 | -0.004347356 |\n",
       "| StPaulsCross |  0.031474281 | -0.6952356 |  0.4022339 | -0.021253534 |\n",
       "| StPaulsRow |  0.014309404 | -0.3160802 |  0.1828707 | -0.009662650 |\n",
       "| TateModern | -0.017881827 |  0.3949904 | -0.2285251 |  0.012074937 |\n",
       "| TorringtonSq | -0.018115112 |  0.4001421 | -0.2315060 |  0.012232406 |\n",
       "\n"
      ],
      "text/plain": [
       "                   (Intercept)  R_95       LCeq_50    S           \n",
       "CamdenTown          0.022087105 -0.4878676  0.2822635 -0.014914016\n",
       "EustonTap           0.036927287 -0.8156949  0.4719245 -0.024936126\n",
       "MarchmontGarden    -0.010621823  0.2346266 -0.1357447  0.007172613\n",
       "MonumentoGaribaldi -0.010300040  0.2275186 -0.1316324  0.006955317\n",
       "PancrasLock         0.009500273 -0.2098528  0.1214116 -0.006415272\n",
       "RegentsParkFields  -0.038722455  0.8553423 -0.4948644  0.026148064\n",
       "RegentsParkJapan   -0.008684247  0.1918234 -0.1109817  0.005864047\n",
       "RussellSq          -0.016410864  0.3624967 -0.2097260  0.011081571\n",
       "SanMarco            0.006438018 -0.1422089  0.0822762 -0.004347356\n",
       "StPaulsCross        0.031474281 -0.6952356  0.4022339 -0.021253534\n",
       "StPaulsRow          0.014309404 -0.3160802  0.1828707 -0.009662650\n",
       "TateModern         -0.017881827  0.3949904 -0.2285251  0.012074937\n",
       "TorringtonSq       -0.018115112  0.4001421 -0.2315060  0.012232406"
      ]
     },
     "metadata": {},
     "output_type": "display_data"
    },
    {
     "data": {
      "text/html": [
       "<span style=white-space:pre-wrap>'Predicted - Actual Correlation: 0.515952  '</span>"
      ],
      "text/latex": [
       "'Predicted - Actual Correlation: 0.515952  '"
      ],
      "text/markdown": [
       "<span style=white-space:pre-wrap>'Predicted - Actual Correlation: 0.515952  '</span>"
      ],
      "text/plain": [
       "[1] \"Predicted - Actual Correlation: 0.515952  \""
      ]
     },
     "metadata": {},
     "output_type": "display_data"
    },
    {
     "data": {
      "text/html": [
       "<span style=white-space:pre-wrap>'Predicted - Actual Variance: 0.147075  '</span>"
      ],
      "text/latex": [
       "'Predicted - Actual Variance: 0.147075  '"
      ],
      "text/markdown": [
       "<span style=white-space:pre-wrap>'Predicted - Actual Variance: 0.147075  '</span>"
      ],
      "text/plain": [
       "[1] \"Predicted - Actual Variance: 0.147075  \""
      ]
     },
     "metadata": {},
     "output_type": "display_data"
    },
    {
     "name": "stdout",
     "output_type": "stream",
     "text": [
      "[1] \"Actual summary:\"\n",
      "   Min. 1st Qu.  Median    Mean 3rd Qu.    Max. \n",
      "  1.000   2.500   3.000   2.938   3.333   5.000 \n",
      "[1] \"Predicted summary:\"\n",
      "   Min. 1st Qu.  Median    Mean 3rd Qu.    Max. \n",
      "  2.010   2.689   2.942   2.938   3.185   4.707 \n"
     ]
    },
    {
     "name": "stderr",
     "output_type": "stream",
     "text": [
      "`geom_smooth()` using formula 'y ~ x'\n"
     ]
    },
    {
     "data": {
      "image/png": "[encoded data removed]",
      "text/plain": [
       "plot without title"
      ]
     },
     "metadata": {},
     "output_type": "display_data"
    }
   ],
   "source": [
    "loudness_formula <- as.formula(\"loudness ~ R_95 + LCeq_50 + S + (R_95 + LCeq_50 + S|LocationID)\")\n",
    "loudness_model <- lmerTest::lmer(loudness_formula, data = prelockdownData, REML=FALSE)\n",
    "\n",
    "summary(loudness_model)\n",
    "r.squaredGLMM(loudness_model)\n",
    "ranef(loudness_model)$LocationID\n",
    "\n",
    "# Predicting\n",
    "prelockdownData$loudness_pred <- predict(loudness_model, newdata = prelockdownData)\n",
    "sprintf(fmt = \"%-10s%-10f\", \"Predicted - Actual Correlation: \", cor(prelockdownData$loudness, prelockdownData$loudness_pred))\n",
    "sprintf(fmt = \"%-10s%-10f\", \"Predicted - Actual Variance: \", var(prelockdownData$loudness, prelockdownData$loudness_pred))\n",
    "\n",
    "print(\"Actual summary:\")\n",
    "print(summary(prelockdownData$loudness))\n",
    "print(\"Predicted summary:\")\n",
    "print(summary(prelockdownData$loudness_pred))\n",
    "ggplot(prelockdownData, aes(x=loudness, y=loudness_pred)) + geom_point() +\n",
    "    geom_smooth(method=lm)"
   ]
  },
  {
   "cell_type": "markdown",
   "metadata": {},
   "source": [
    "# Predicting for during Lockdown data"
   ]
  },
  {
   "cell_type": "code",
   "execution_count": 11,
   "metadata": {},
   "outputs": [],
   "source": [
    "lockdownData$Pleasant_pred <- predict(Pleasant_model, newdata = lockdownData)\n",
    "lockdownData$Eventful_pred <- predict(Eventful_model, newdata = lockdownData)\n",
    "lockdownData$Natural_pred <- predict(Natural_model, newdata = lockdownData)\n",
    "lockdownData$Traffic_pred <- predict(Traffic_model, newdata = lockdownData)\n",
    "lockdownData$Human_pred <- predict(Human_model, newdata = lockdownData)\n",
    "lockdownData$Other_pred <- predict(Other_model, newdata = lockdownData)\n",
    "lockdownData$overall_pred <- predict(overall_model, newdata = lockdownData)\n",
    "lockdownData$loudness_pred <- predict(loudness_model, newdata = lockdownData)\n",
    "\n",
    "write.csv(lockdownData, here(\"results\", \"2020-09-08\", \"lockdownData-R-Predict_3.csv\"), row.names = FALSE)\n",
    "write.csv(prelockdownData, here(\"results\", \"2020-09-08\", \"prelockdownData-R-Predict_3.csv\"), row.names = FALSE)"
   ]
  },
  {
   "cell_type": "code",
   "execution_count": null,
   "metadata": {},
   "outputs": [],
   "source": []
  }
 ],
 "metadata": {
  "kernelspec": {
   "display_name": "Python 3.7.5 64-bit ('AcousticAnalysis_2': conda)",
   "language": "python",
   "name": "python37564bitacousticanalysis2condaee88f4ddae804d0ebcf6e303757655c0"
  },
  "language_info": {
   "codemirror_mode": {
    "name": "ipython",
    "version": 3
   },
   "file_extension": ".py",
   "mimetype": "text/x-python",
   "name": "python",
   "nbconvert_exporter": "python",
   "pygments_lexer": "ipython3",
   "version": "3.7.5-final"
  }
 },
 "nbformat": 4,
 "nbformat_minor": 4
}